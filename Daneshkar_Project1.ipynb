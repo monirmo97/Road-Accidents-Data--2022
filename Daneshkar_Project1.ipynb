{
  "nbformat": 4,
  "nbformat_minor": 0,
  "metadata": {
    "colab": {
      "provenance": []
    },
    "kernelspec": {
      "name": "python3",
      "display_name": "Python 3"
    },
    "language_info": {
      "name": "python"
    }
  },
  "cells": [
    {
      "cell_type": "code",
      "source": [
        "# from google.colab import drive\n",
        "# drive.mount('/content/drive')"
      ],
      "metadata": {
        "id": "xZZ0dln4cIcP"
      },
      "execution_count": null,
      "outputs": []
    },
    {
      "cell_type": "code",
      "source": [
        "import pandas as pd"
      ],
      "metadata": {
        "id": "utFD6qHVgKyd"
      },
      "execution_count": null,
      "outputs": []
    },
    {
      "cell_type": "code",
      "source": [
        "path_file = '/content/drive/MyDrive/dft-road-casualty-statistics-casualty-provisional-mid-year-unvalidated-2022 (1).csv'\n",
        "\n",
        "data = pd.read_csv(path_file)"
      ],
      "metadata": {
        "id": "N_lwvYNTgOQO"
      },
      "execution_count": null,
      "outputs": []
    },
    {
      "cell_type": "code",
      "source": [
        "data.info()"
      ],
      "metadata": {
        "id": "OXGDAEMlga_I",
        "colab": {
          "base_uri": "https://localhost:8080/"
        },
        "outputId": "ba7985cc-0a2b-4dda-b607-70b1a005c713"
      },
      "execution_count": null,
      "outputs": [
        {
          "output_type": "stream",
          "name": "stdout",
          "text": [
            "<class 'pandas.core.frame.DataFrame'>\n",
            "RangeIndex: 61352 entries, 0 to 61351\n",
            "Data columns (total 20 columns):\n",
            " #   Column                              Non-Null Count  Dtype \n",
            "---  ------                              --------------  ----- \n",
            " 0   status                              61352 non-null  object\n",
            " 1   accident_index                      61352 non-null  object\n",
            " 2   accident_year                       61352 non-null  int64 \n",
            " 3   accident_reference                  61352 non-null  object\n",
            " 4   vehicle_reference                   61352 non-null  int64 \n",
            " 5   casualty_reference                  61352 non-null  int64 \n",
            " 6   casualty_class                      61352 non-null  int64 \n",
            " 7   sex_of_casualty                     61352 non-null  int64 \n",
            " 8   age_of_casualty                     61352 non-null  int64 \n",
            " 9   age_band_of_casualty                61352 non-null  int64 \n",
            " 10  casualty_severity                   61352 non-null  int64 \n",
            " 11  pedestrian_location                 61352 non-null  int64 \n",
            " 12  pedestrian_movement                 61352 non-null  int64 \n",
            " 13  car_passenger                       61352 non-null  int64 \n",
            " 14  bus_or_coach_passenger              61352 non-null  int64 \n",
            " 15  pedestrian_road_maintenance_worker  61352 non-null  int64 \n",
            " 16  casualty_type                       61352 non-null  int64 \n",
            " 17  casualty_home_area_type             61352 non-null  int64 \n",
            " 18  casualty_imd_decile                 61352 non-null  int64 \n",
            " 19  lsoa_of_casualty                    61352 non-null  object\n",
            "dtypes: int64(16), object(4)\n",
            "memory usage: 9.4+ MB\n"
          ]
        }
      ]
    },
    {
      "cell_type": "code",
      "source": [
        "data"
      ],
      "metadata": {
        "id": "P_luhRoGgcpF",
        "colab": {
          "base_uri": "https://localhost:8080/",
          "height": 443
        },
        "outputId": "d54672f9-9a16-4709-86c4-e52d740f00da"
      },
      "execution_count": null,
      "outputs": [
        {
          "output_type": "execute_result",
          "data": {
            "text/plain": [
              "            status accident_index  accident_year accident_reference  \\\n",
              "0      Unvalidated  2022070151244           2022          070151244   \n",
              "1      Unvalidated  2022070152668           2022          070152668   \n",
              "2      Unvalidated  2022070154696           2022          070154696   \n",
              "3      Unvalidated  2022070154696           2022          070154696   \n",
              "4      Unvalidated  2022070154696           2022          070154696   \n",
              "...            ...            ...            ...                ...   \n",
              "61347  Unvalidated  2022461156711           2022          461156711   \n",
              "61348  Unvalidated  2022461157243           2022          461157243   \n",
              "61349  Unvalidated  2022461157256           2022          461157256   \n",
              "61350  Unvalidated  2022461157316           2022          461157316   \n",
              "61351  Unvalidated  2022461159841           2022          461159841   \n",
              "\n",
              "       vehicle_reference  casualty_reference  casualty_class  sex_of_casualty  \\\n",
              "0                      2                   1               1                2   \n",
              "1                      1                   1               1                1   \n",
              "2                      1                   1               1                2   \n",
              "3                      2                   3               1                2   \n",
              "4                      3                   2               1                1   \n",
              "...                  ...                 ...             ...              ...   \n",
              "61347                  1                   1               3                2   \n",
              "61348                  1                   1               3                1   \n",
              "61349                  2                   1               1                1   \n",
              "61350                  1                   1               1                2   \n",
              "61351                  2                   1               1                1   \n",
              "\n",
              "       age_of_casualty  age_band_of_casualty  casualty_severity  \\\n",
              "0                   46                     8                  3   \n",
              "1                   30                     6                  3   \n",
              "2                   58                     9                  3   \n",
              "3                   78                    11                  3   \n",
              "4                   63                     9                  3   \n",
              "...                ...                   ...                ...   \n",
              "61347               56                     9                  3   \n",
              "61348               14                     3                  2   \n",
              "61349               42                     7                  3   \n",
              "61350               40                     7                  3   \n",
              "61351               71                    10                  3   \n",
              "\n",
              "       pedestrian_location  pedestrian_movement  car_passenger  \\\n",
              "0                        0                    0              0   \n",
              "1                        0                    0              0   \n",
              "2                        0                    0              0   \n",
              "3                        0                    0              0   \n",
              "4                        0                    0              0   \n",
              "...                    ...                  ...            ...   \n",
              "61347                   10                    9              0   \n",
              "61348                    5                    9              0   \n",
              "61349                    0                    0              0   \n",
              "61350                    0                    0              0   \n",
              "61351                    0                    0              0   \n",
              "\n",
              "       bus_or_coach_passenger  pedestrian_road_maintenance_worker  \\\n",
              "0                           0                                   0   \n",
              "1                           0                                   0   \n",
              "2                           0                                   0   \n",
              "3                           0                                   0   \n",
              "4                           0                                   0   \n",
              "...                       ...                                 ...   \n",
              "61347                       0                                   0   \n",
              "61348                       0                                   0   \n",
              "61349                       0                                   0   \n",
              "61350                       0                                   0   \n",
              "61351                       0                                   0   \n",
              "\n",
              "       casualty_type  casualty_home_area_type  casualty_imd_decile  \\\n",
              "0                  9                        1                    9   \n",
              "1                  9                        1                    2   \n",
              "2                  9                        1                   10   \n",
              "3                  9                        2                   10   \n",
              "4                  9                        3                    7   \n",
              "...              ...                      ...                  ...   \n",
              "61347              0                        1                   10   \n",
              "61348              0                       -1                   -1   \n",
              "61349              9                        1                    5   \n",
              "61350              9                        1                    3   \n",
              "61351              9                        1                    2   \n",
              "\n",
              "      lsoa_of_casualty  \n",
              "0            E01033378  \n",
              "1            E01018551  \n",
              "2            E01006134  \n",
              "3            E01018724  \n",
              "4            W01000578  \n",
              "...                ...  \n",
              "61347        E01024046  \n",
              "61348               -1  \n",
              "61349        E01016034  \n",
              "61350        E01024497  \n",
              "61351        E01016025  \n",
              "\n",
              "[61352 rows x 20 columns]"
            ],
            "text/html": [
              "\n",
              "  <div id=\"df-9999047f-44d9-49b7-80e3-d97d3176e528\" class=\"colab-df-container\">\n",
              "    <div>\n",
              "<style scoped>\n",
              "    .dataframe tbody tr th:only-of-type {\n",
              "        vertical-align: middle;\n",
              "    }\n",
              "\n",
              "    .dataframe tbody tr th {\n",
              "        vertical-align: top;\n",
              "    }\n",
              "\n",
              "    .dataframe thead th {\n",
              "        text-align: right;\n",
              "    }\n",
              "</style>\n",
              "<table border=\"1\" class=\"dataframe\">\n",
              "  <thead>\n",
              "    <tr style=\"text-align: right;\">\n",
              "      <th></th>\n",
              "      <th>status</th>\n",
              "      <th>accident_index</th>\n",
              "      <th>accident_year</th>\n",
              "      <th>accident_reference</th>\n",
              "      <th>vehicle_reference</th>\n",
              "      <th>casualty_reference</th>\n",
              "      <th>casualty_class</th>\n",
              "      <th>sex_of_casualty</th>\n",
              "      <th>age_of_casualty</th>\n",
              "      <th>age_band_of_casualty</th>\n",
              "      <th>casualty_severity</th>\n",
              "      <th>pedestrian_location</th>\n",
              "      <th>pedestrian_movement</th>\n",
              "      <th>car_passenger</th>\n",
              "      <th>bus_or_coach_passenger</th>\n",
              "      <th>pedestrian_road_maintenance_worker</th>\n",
              "      <th>casualty_type</th>\n",
              "      <th>casualty_home_area_type</th>\n",
              "      <th>casualty_imd_decile</th>\n",
              "      <th>lsoa_of_casualty</th>\n",
              "    </tr>\n",
              "  </thead>\n",
              "  <tbody>\n",
              "    <tr>\n",
              "      <th>0</th>\n",
              "      <td>Unvalidated</td>\n",
              "      <td>2022070151244</td>\n",
              "      <td>2022</td>\n",
              "      <td>070151244</td>\n",
              "      <td>2</td>\n",
              "      <td>1</td>\n",
              "      <td>1</td>\n",
              "      <td>2</td>\n",
              "      <td>46</td>\n",
              "      <td>8</td>\n",
              "      <td>3</td>\n",
              "      <td>0</td>\n",
              "      <td>0</td>\n",
              "      <td>0</td>\n",
              "      <td>0</td>\n",
              "      <td>0</td>\n",
              "      <td>9</td>\n",
              "      <td>1</td>\n",
              "      <td>9</td>\n",
              "      <td>E01033378</td>\n",
              "    </tr>\n",
              "    <tr>\n",
              "      <th>1</th>\n",
              "      <td>Unvalidated</td>\n",
              "      <td>2022070152668</td>\n",
              "      <td>2022</td>\n",
              "      <td>070152668</td>\n",
              "      <td>1</td>\n",
              "      <td>1</td>\n",
              "      <td>1</td>\n",
              "      <td>1</td>\n",
              "      <td>30</td>\n",
              "      <td>6</td>\n",
              "      <td>3</td>\n",
              "      <td>0</td>\n",
              "      <td>0</td>\n",
              "      <td>0</td>\n",
              "      <td>0</td>\n",
              "      <td>0</td>\n",
              "      <td>9</td>\n",
              "      <td>1</td>\n",
              "      <td>2</td>\n",
              "      <td>E01018551</td>\n",
              "    </tr>\n",
              "    <tr>\n",
              "      <th>2</th>\n",
              "      <td>Unvalidated</td>\n",
              "      <td>2022070154696</td>\n",
              "      <td>2022</td>\n",
              "      <td>070154696</td>\n",
              "      <td>1</td>\n",
              "      <td>1</td>\n",
              "      <td>1</td>\n",
              "      <td>2</td>\n",
              "      <td>58</td>\n",
              "      <td>9</td>\n",
              "      <td>3</td>\n",
              "      <td>0</td>\n",
              "      <td>0</td>\n",
              "      <td>0</td>\n",
              "      <td>0</td>\n",
              "      <td>0</td>\n",
              "      <td>9</td>\n",
              "      <td>1</td>\n",
              "      <td>10</td>\n",
              "      <td>E01006134</td>\n",
              "    </tr>\n",
              "    <tr>\n",
              "      <th>3</th>\n",
              "      <td>Unvalidated</td>\n",
              "      <td>2022070154696</td>\n",
              "      <td>2022</td>\n",
              "      <td>070154696</td>\n",
              "      <td>2</td>\n",
              "      <td>3</td>\n",
              "      <td>1</td>\n",
              "      <td>2</td>\n",
              "      <td>78</td>\n",
              "      <td>11</td>\n",
              "      <td>3</td>\n",
              "      <td>0</td>\n",
              "      <td>0</td>\n",
              "      <td>0</td>\n",
              "      <td>0</td>\n",
              "      <td>0</td>\n",
              "      <td>9</td>\n",
              "      <td>2</td>\n",
              "      <td>10</td>\n",
              "      <td>E01018724</td>\n",
              "    </tr>\n",
              "    <tr>\n",
              "      <th>4</th>\n",
              "      <td>Unvalidated</td>\n",
              "      <td>2022070154696</td>\n",
              "      <td>2022</td>\n",
              "      <td>070154696</td>\n",
              "      <td>3</td>\n",
              "      <td>2</td>\n",
              "      <td>1</td>\n",
              "      <td>1</td>\n",
              "      <td>63</td>\n",
              "      <td>9</td>\n",
              "      <td>3</td>\n",
              "      <td>0</td>\n",
              "      <td>0</td>\n",
              "      <td>0</td>\n",
              "      <td>0</td>\n",
              "      <td>0</td>\n",
              "      <td>9</td>\n",
              "      <td>3</td>\n",
              "      <td>7</td>\n",
              "      <td>W01000578</td>\n",
              "    </tr>\n",
              "    <tr>\n",
              "      <th>...</th>\n",
              "      <td>...</td>\n",
              "      <td>...</td>\n",
              "      <td>...</td>\n",
              "      <td>...</td>\n",
              "      <td>...</td>\n",
              "      <td>...</td>\n",
              "      <td>...</td>\n",
              "      <td>...</td>\n",
              "      <td>...</td>\n",
              "      <td>...</td>\n",
              "      <td>...</td>\n",
              "      <td>...</td>\n",
              "      <td>...</td>\n",
              "      <td>...</td>\n",
              "      <td>...</td>\n",
              "      <td>...</td>\n",
              "      <td>...</td>\n",
              "      <td>...</td>\n",
              "      <td>...</td>\n",
              "      <td>...</td>\n",
              "    </tr>\n",
              "    <tr>\n",
              "      <th>61347</th>\n",
              "      <td>Unvalidated</td>\n",
              "      <td>2022461156711</td>\n",
              "      <td>2022</td>\n",
              "      <td>461156711</td>\n",
              "      <td>1</td>\n",
              "      <td>1</td>\n",
              "      <td>3</td>\n",
              "      <td>2</td>\n",
              "      <td>56</td>\n",
              "      <td>9</td>\n",
              "      <td>3</td>\n",
              "      <td>10</td>\n",
              "      <td>9</td>\n",
              "      <td>0</td>\n",
              "      <td>0</td>\n",
              "      <td>0</td>\n",
              "      <td>0</td>\n",
              "      <td>1</td>\n",
              "      <td>10</td>\n",
              "      <td>E01024046</td>\n",
              "    </tr>\n",
              "    <tr>\n",
              "      <th>61348</th>\n",
              "      <td>Unvalidated</td>\n",
              "      <td>2022461157243</td>\n",
              "      <td>2022</td>\n",
              "      <td>461157243</td>\n",
              "      <td>1</td>\n",
              "      <td>1</td>\n",
              "      <td>3</td>\n",
              "      <td>1</td>\n",
              "      <td>14</td>\n",
              "      <td>3</td>\n",
              "      <td>2</td>\n",
              "      <td>5</td>\n",
              "      <td>9</td>\n",
              "      <td>0</td>\n",
              "      <td>0</td>\n",
              "      <td>0</td>\n",
              "      <td>0</td>\n",
              "      <td>-1</td>\n",
              "      <td>-1</td>\n",
              "      <td>-1</td>\n",
              "    </tr>\n",
              "    <tr>\n",
              "      <th>61349</th>\n",
              "      <td>Unvalidated</td>\n",
              "      <td>2022461157256</td>\n",
              "      <td>2022</td>\n",
              "      <td>461157256</td>\n",
              "      <td>2</td>\n",
              "      <td>1</td>\n",
              "      <td>1</td>\n",
              "      <td>1</td>\n",
              "      <td>42</td>\n",
              "      <td>7</td>\n",
              "      <td>3</td>\n",
              "      <td>0</td>\n",
              "      <td>0</td>\n",
              "      <td>0</td>\n",
              "      <td>0</td>\n",
              "      <td>0</td>\n",
              "      <td>9</td>\n",
              "      <td>1</td>\n",
              "      <td>5</td>\n",
              "      <td>E01016034</td>\n",
              "    </tr>\n",
              "    <tr>\n",
              "      <th>61350</th>\n",
              "      <td>Unvalidated</td>\n",
              "      <td>2022461157316</td>\n",
              "      <td>2022</td>\n",
              "      <td>461157316</td>\n",
              "      <td>1</td>\n",
              "      <td>1</td>\n",
              "      <td>1</td>\n",
              "      <td>2</td>\n",
              "      <td>40</td>\n",
              "      <td>7</td>\n",
              "      <td>3</td>\n",
              "      <td>0</td>\n",
              "      <td>0</td>\n",
              "      <td>0</td>\n",
              "      <td>0</td>\n",
              "      <td>0</td>\n",
              "      <td>9</td>\n",
              "      <td>1</td>\n",
              "      <td>3</td>\n",
              "      <td>E01024497</td>\n",
              "    </tr>\n",
              "    <tr>\n",
              "      <th>61351</th>\n",
              "      <td>Unvalidated</td>\n",
              "      <td>2022461159841</td>\n",
              "      <td>2022</td>\n",
              "      <td>461159841</td>\n",
              "      <td>2</td>\n",
              "      <td>1</td>\n",
              "      <td>1</td>\n",
              "      <td>1</td>\n",
              "      <td>71</td>\n",
              "      <td>10</td>\n",
              "      <td>3</td>\n",
              "      <td>0</td>\n",
              "      <td>0</td>\n",
              "      <td>0</td>\n",
              "      <td>0</td>\n",
              "      <td>0</td>\n",
              "      <td>9</td>\n",
              "      <td>1</td>\n",
              "      <td>2</td>\n",
              "      <td>E01016025</td>\n",
              "    </tr>\n",
              "  </tbody>\n",
              "</table>\n",
              "<p>61352 rows × 20 columns</p>\n",
              "</div>\n",
              "    <div class=\"colab-df-buttons\">\n",
              "\n",
              "  <div class=\"colab-df-container\">\n",
              "    <button class=\"colab-df-convert\" onclick=\"convertToInteractive('df-9999047f-44d9-49b7-80e3-d97d3176e528')\"\n",
              "            title=\"Convert this dataframe to an interactive table.\"\n",
              "            style=\"display:none;\">\n",
              "\n",
              "  <svg xmlns=\"http://www.w3.org/2000/svg\" height=\"24px\" viewBox=\"0 -960 960 960\">\n",
              "    <path d=\"M120-120v-720h720v720H120Zm60-500h600v-160H180v160Zm220 220h160v-160H400v160Zm0 220h160v-160H400v160ZM180-400h160v-160H180v160Zm440 0h160v-160H620v160ZM180-180h160v-160H180v160Zm440 0h160v-160H620v160Z\"/>\n",
              "  </svg>\n",
              "    </button>\n",
              "\n",
              "  <style>\n",
              "    .colab-df-container {\n",
              "      display:flex;\n",
              "      gap: 12px;\n",
              "    }\n",
              "\n",
              "    .colab-df-convert {\n",
              "      background-color: #E8F0FE;\n",
              "      border: none;\n",
              "      border-radius: 50%;\n",
              "      cursor: pointer;\n",
              "      display: none;\n",
              "      fill: #1967D2;\n",
              "      height: 32px;\n",
              "      padding: 0 0 0 0;\n",
              "      width: 32px;\n",
              "    }\n",
              "\n",
              "    .colab-df-convert:hover {\n",
              "      background-color: #E2EBFA;\n",
              "      box-shadow: 0px 1px 2px rgba(60, 64, 67, 0.3), 0px 1px 3px 1px rgba(60, 64, 67, 0.15);\n",
              "      fill: #174EA6;\n",
              "    }\n",
              "\n",
              "    .colab-df-buttons div {\n",
              "      margin-bottom: 4px;\n",
              "    }\n",
              "\n",
              "    [theme=dark] .colab-df-convert {\n",
              "      background-color: #3B4455;\n",
              "      fill: #D2E3FC;\n",
              "    }\n",
              "\n",
              "    [theme=dark] .colab-df-convert:hover {\n",
              "      background-color: #434B5C;\n",
              "      box-shadow: 0px 1px 3px 1px rgba(0, 0, 0, 0.15);\n",
              "      filter: drop-shadow(0px 1px 2px rgba(0, 0, 0, 0.3));\n",
              "      fill: #FFFFFF;\n",
              "    }\n",
              "  </style>\n",
              "\n",
              "    <script>\n",
              "      const buttonEl =\n",
              "        document.querySelector('#df-9999047f-44d9-49b7-80e3-d97d3176e528 button.colab-df-convert');\n",
              "      buttonEl.style.display =\n",
              "        google.colab.kernel.accessAllowed ? 'block' : 'none';\n",
              "\n",
              "      async function convertToInteractive(key) {\n",
              "        const element = document.querySelector('#df-9999047f-44d9-49b7-80e3-d97d3176e528');\n",
              "        const dataTable =\n",
              "          await google.colab.kernel.invokeFunction('convertToInteractive',\n",
              "                                                    [key], {});\n",
              "        if (!dataTable) return;\n",
              "\n",
              "        const docLinkHtml = 'Like what you see? Visit the ' +\n",
              "          '<a target=\"_blank\" href=https://colab.research.google.com/notebooks/data_table.ipynb>data table notebook</a>'\n",
              "          + ' to learn more about interactive tables.';\n",
              "        element.innerHTML = '';\n",
              "        dataTable['output_type'] = 'display_data';\n",
              "        await google.colab.output.renderOutput(dataTable, element);\n",
              "        const docLink = document.createElement('div');\n",
              "        docLink.innerHTML = docLinkHtml;\n",
              "        element.appendChild(docLink);\n",
              "      }\n",
              "    </script>\n",
              "  </div>\n",
              "\n",
              "\n",
              "<div id=\"df-2e709ed7-b8fe-41c3-ab7c-7d8767580e53\">\n",
              "  <button class=\"colab-df-quickchart\" onclick=\"quickchart('df-2e709ed7-b8fe-41c3-ab7c-7d8767580e53')\"\n",
              "            title=\"Suggest charts\"\n",
              "            style=\"display:none;\">\n",
              "\n",
              "<svg xmlns=\"http://www.w3.org/2000/svg\" height=\"24px\"viewBox=\"0 0 24 24\"\n",
              "     width=\"24px\">\n",
              "    <g>\n",
              "        <path d=\"M19 3H5c-1.1 0-2 .9-2 2v14c0 1.1.9 2 2 2h14c1.1 0 2-.9 2-2V5c0-1.1-.9-2-2-2zM9 17H7v-7h2v7zm4 0h-2V7h2v10zm4 0h-2v-4h2v4z\"/>\n",
              "    </g>\n",
              "</svg>\n",
              "  </button>\n",
              "\n",
              "<style>\n",
              "  .colab-df-quickchart {\n",
              "      --bg-color: #E8F0FE;\n",
              "      --fill-color: #1967D2;\n",
              "      --hover-bg-color: #E2EBFA;\n",
              "      --hover-fill-color: #174EA6;\n",
              "      --disabled-fill-color: #AAA;\n",
              "      --disabled-bg-color: #DDD;\n",
              "  }\n",
              "\n",
              "  [theme=dark] .colab-df-quickchart {\n",
              "      --bg-color: #3B4455;\n",
              "      --fill-color: #D2E3FC;\n",
              "      --hover-bg-color: #434B5C;\n",
              "      --hover-fill-color: #FFFFFF;\n",
              "      --disabled-bg-color: #3B4455;\n",
              "      --disabled-fill-color: #666;\n",
              "  }\n",
              "\n",
              "  .colab-df-quickchart {\n",
              "    background-color: var(--bg-color);\n",
              "    border: none;\n",
              "    border-radius: 50%;\n",
              "    cursor: pointer;\n",
              "    display: none;\n",
              "    fill: var(--fill-color);\n",
              "    height: 32px;\n",
              "    padding: 0;\n",
              "    width: 32px;\n",
              "  }\n",
              "\n",
              "  .colab-df-quickchart:hover {\n",
              "    background-color: var(--hover-bg-color);\n",
              "    box-shadow: 0 1px 2px rgba(60, 64, 67, 0.3), 0 1px 3px 1px rgba(60, 64, 67, 0.15);\n",
              "    fill: var(--button-hover-fill-color);\n",
              "  }\n",
              "\n",
              "  .colab-df-quickchart-complete:disabled,\n",
              "  .colab-df-quickchart-complete:disabled:hover {\n",
              "    background-color: var(--disabled-bg-color);\n",
              "    fill: var(--disabled-fill-color);\n",
              "    box-shadow: none;\n",
              "  }\n",
              "\n",
              "  .colab-df-spinner {\n",
              "    border: 2px solid var(--fill-color);\n",
              "    border-color: transparent;\n",
              "    border-bottom-color: var(--fill-color);\n",
              "    animation:\n",
              "      spin 1s steps(1) infinite;\n",
              "  }\n",
              "\n",
              "  @keyframes spin {\n",
              "    0% {\n",
              "      border-color: transparent;\n",
              "      border-bottom-color: var(--fill-color);\n",
              "      border-left-color: var(--fill-color);\n",
              "    }\n",
              "    20% {\n",
              "      border-color: transparent;\n",
              "      border-left-color: var(--fill-color);\n",
              "      border-top-color: var(--fill-color);\n",
              "    }\n",
              "    30% {\n",
              "      border-color: transparent;\n",
              "      border-left-color: var(--fill-color);\n",
              "      border-top-color: var(--fill-color);\n",
              "      border-right-color: var(--fill-color);\n",
              "    }\n",
              "    40% {\n",
              "      border-color: transparent;\n",
              "      border-right-color: var(--fill-color);\n",
              "      border-top-color: var(--fill-color);\n",
              "    }\n",
              "    60% {\n",
              "      border-color: transparent;\n",
              "      border-right-color: var(--fill-color);\n",
              "    }\n",
              "    80% {\n",
              "      border-color: transparent;\n",
              "      border-right-color: var(--fill-color);\n",
              "      border-bottom-color: var(--fill-color);\n",
              "    }\n",
              "    90% {\n",
              "      border-color: transparent;\n",
              "      border-bottom-color: var(--fill-color);\n",
              "    }\n",
              "  }\n",
              "</style>\n",
              "\n",
              "  <script>\n",
              "    async function quickchart(key) {\n",
              "      const quickchartButtonEl =\n",
              "        document.querySelector('#' + key + ' button');\n",
              "      quickchartButtonEl.disabled = true;  // To prevent multiple clicks.\n",
              "      quickchartButtonEl.classList.add('colab-df-spinner');\n",
              "      try {\n",
              "        const charts = await google.colab.kernel.invokeFunction(\n",
              "            'suggestCharts', [key], {});\n",
              "      } catch (error) {\n",
              "        console.error('Error during call to suggestCharts:', error);\n",
              "      }\n",
              "      quickchartButtonEl.classList.remove('colab-df-spinner');\n",
              "      quickchartButtonEl.classList.add('colab-df-quickchart-complete');\n",
              "    }\n",
              "    (() => {\n",
              "      let quickchartButtonEl =\n",
              "        document.querySelector('#df-2e709ed7-b8fe-41c3-ab7c-7d8767580e53 button');\n",
              "      quickchartButtonEl.style.display =\n",
              "        google.colab.kernel.accessAllowed ? 'block' : 'none';\n",
              "    })();\n",
              "  </script>\n",
              "</div>\n",
              "    </div>\n",
              "  </div>\n"
            ],
            "application/vnd.google.colaboratory.intrinsic+json": {
              "type": "dataframe",
              "variable_name": "data",
              "summary": "{\n  \"name\": \"data\",\n  \"rows\": 61352,\n  \"fields\": [\n    {\n      \"column\": \"status\",\n      \"properties\": {\n        \"dtype\": \"category\",\n        \"num_unique_values\": 1,\n        \"samples\": [\n          \"Unvalidated\"\n        ],\n        \"semantic_type\": \"\",\n        \"description\": \"\"\n      }\n    },\n    {\n      \"column\": \"accident_index\",\n      \"properties\": {\n        \"dtype\": \"string\",\n        \"num_unique_values\": 48283,\n        \"samples\": [\n          \"2022401183536\"\n        ],\n        \"semantic_type\": \"\",\n        \"description\": \"\"\n      }\n    },\n    {\n      \"column\": \"accident_year\",\n      \"properties\": {\n        \"dtype\": \"number\",\n        \"std\": 0,\n        \"min\": 2022,\n        \"max\": 2022,\n        \"num_unique_values\": 1,\n        \"samples\": [\n          2022\n        ],\n        \"semantic_type\": \"\",\n        \"description\": \"\"\n      }\n    },\n    {\n      \"column\": \"accident_reference\",\n      \"properties\": {\n        \"dtype\": \"string\",\n        \"num_unique_values\": 48283,\n        \"samples\": [\n          \"401183536\"\n        ],\n        \"semantic_type\": \"\",\n        \"description\": \"\"\n      }\n    },\n    {\n      \"column\": \"vehicle_reference\",\n      \"properties\": {\n        \"dtype\": \"number\",\n        \"std\": 1,\n        \"min\": 1,\n        \"max\": 227,\n        \"num_unique_values\": 11,\n        \"samples\": [\n          8\n        ],\n        \"semantic_type\": \"\",\n        \"description\": \"\"\n      }\n    },\n    {\n      \"column\": \"casualty_reference\",\n      \"properties\": {\n        \"dtype\": \"number\",\n        \"std\": 0,\n        \"min\": 1,\n        \"max\": 148,\n        \"num_unique_values\": 18,\n        \"samples\": [\n          1\n        ],\n        \"semantic_type\": \"\",\n        \"description\": \"\"\n      }\n    },\n    {\n      \"column\": \"casualty_class\",\n      \"properties\": {\n        \"dtype\": \"number\",\n        \"std\": 0,\n        \"min\": 1,\n        \"max\": 3,\n        \"num_unique_values\": 3,\n        \"samples\": [\n          1\n        ],\n        \"semantic_type\": \"\",\n        \"description\": \"\"\n      }\n    },\n    {\n      \"column\": \"sex_of_casualty\",\n      \"properties\": {\n        \"dtype\": \"number\",\n        \"std\": 0,\n        \"min\": -1,\n        \"max\": 9,\n        \"num_unique_values\": 4,\n        \"samples\": [\n          1\n        ],\n        \"semantic_type\": \"\",\n        \"description\": \"\"\n      }\n    },\n    {\n      \"column\": \"age_of_casualty\",\n      \"properties\": {\n        \"dtype\": \"number\",\n        \"std\": 19,\n        \"min\": -1,\n        \"max\": 101,\n        \"num_unique_values\": 102,\n        \"samples\": [\n          43\n        ],\n        \"semantic_type\": \"\",\n        \"description\": \"\"\n      }\n    },\n    {\n      \"column\": \"age_band_of_casualty\",\n      \"properties\": {\n        \"dtype\": \"number\",\n        \"std\": 2,\n        \"min\": -1,\n        \"max\": 11,\n        \"num_unique_values\": 12,\n        \"samples\": [\n          1\n        ],\n        \"semantic_type\": \"\",\n        \"description\": \"\"\n      }\n    },\n    {\n      \"column\": \"casualty_severity\",\n      \"properties\": {\n        \"dtype\": \"number\",\n        \"std\": 0,\n        \"min\": 1,\n        \"max\": 3,\n        \"num_unique_values\": 3,\n        \"samples\": [\n          3\n        ],\n        \"semantic_type\": \"\",\n        \"description\": \"\"\n      }\n    },\n    {\n      \"column\": \"pedestrian_location\",\n      \"properties\": {\n        \"dtype\": \"number\",\n        \"std\": 2,\n        \"min\": 0,\n        \"max\": 10,\n        \"num_unique_values\": 11,\n        \"samples\": [\n          8\n        ],\n        \"semantic_type\": \"\",\n        \"description\": \"\"\n      }\n    },\n    {\n      \"column\": \"pedestrian_movement\",\n      \"properties\": {\n        \"dtype\": \"number\",\n        \"std\": 2,\n        \"min\": 0,\n        \"max\": 9,\n        \"num_unique_values\": 10,\n        \"samples\": [\n          4\n        ],\n        \"semantic_type\": \"\",\n        \"description\": \"\"\n      }\n    },\n    {\n      \"column\": \"car_passenger\",\n      \"properties\": {\n        \"dtype\": \"number\",\n        \"std\": 0,\n        \"min\": -1,\n        \"max\": 9,\n        \"num_unique_values\": 5,\n        \"samples\": [\n          2\n        ],\n        \"semantic_type\": \"\",\n        \"description\": \"\"\n      }\n    },\n    {\n      \"column\": \"bus_or_coach_passenger\",\n      \"properties\": {\n        \"dtype\": \"number\",\n        \"std\": 0,\n        \"min\": -1,\n        \"max\": 9,\n        \"num_unique_values\": 7,\n        \"samples\": [\n          0\n        ],\n        \"semantic_type\": \"\",\n        \"description\": \"\"\n      }\n    },\n    {\n      \"column\": \"pedestrian_road_maintenance_worker\",\n      \"properties\": {\n        \"dtype\": \"number\",\n        \"std\": 0,\n        \"min\": -1,\n        \"max\": 2,\n        \"num_unique_values\": 4,\n        \"samples\": [\n          2\n        ],\n        \"semantic_type\": \"\",\n        \"description\": \"\"\n      }\n    },\n    {\n      \"column\": \"casualty_type\",\n      \"properties\": {\n        \"dtype\": \"number\",\n        \"std\": 16,\n        \"min\": -1,\n        \"max\": 98,\n        \"num_unique_values\": 22,\n        \"samples\": [\n          9\n        ],\n        \"semantic_type\": \"\",\n        \"description\": \"\"\n      }\n    },\n    {\n      \"column\": \"casualty_home_area_type\",\n      \"properties\": {\n        \"dtype\": \"number\",\n        \"std\": 0,\n        \"min\": -1,\n        \"max\": 3,\n        \"num_unique_values\": 4,\n        \"samples\": [\n          2\n        ],\n        \"semantic_type\": \"\",\n        \"description\": \"\"\n      }\n    },\n    {\n      \"column\": \"casualty_imd_decile\",\n      \"properties\": {\n        \"dtype\": \"number\",\n        \"std\": 3,\n        \"min\": -1,\n        \"max\": 10,\n        \"num_unique_values\": 11,\n        \"samples\": [\n          5\n        ],\n        \"semantic_type\": \"\",\n        \"description\": \"\"\n      }\n    },\n    {\n      \"column\": \"lsoa_of_casualty\",\n      \"properties\": {\n        \"dtype\": \"category\",\n        \"num_unique_values\": 23841,\n        \"samples\": [\n          \"E01023009\"\n        ],\n        \"semantic_type\": \"\",\n        \"description\": \"\"\n      }\n    }\n  ]\n}"
            }
          },
          "metadata": {},
          "execution_count": 6
        }
      ]
    },
    {
      "cell_type": "code",
      "source": [
        "# Drop 'status' columns"
      ],
      "metadata": {
        "id": "Nifbkq2v9CXT"
      },
      "execution_count": null,
      "outputs": []
    },
    {
      "cell_type": "code",
      "source": [
        "data.drop(columns=['status'], inplace=True)"
      ],
      "metadata": {
        "id": "fB5_AvknK-hS"
      },
      "execution_count": null,
      "outputs": []
    },
    {
      "cell_type": "code",
      "source": [
        "#check null amount"
      ],
      "metadata": {
        "id": "BHdzD9L8LARR"
      },
      "execution_count": null,
      "outputs": []
    },
    {
      "cell_type": "code",
      "source": [
        "data.isnull().sum()"
      ],
      "metadata": {
        "colab": {
          "base_uri": "https://localhost:8080/"
        },
        "id": "ON4NRQusLBvn",
        "outputId": "593baddf-02ed-4f43-eabd-851422a341f9"
      },
      "execution_count": null,
      "outputs": [
        {
          "output_type": "execute_result",
          "data": {
            "text/plain": [
              "accident_index                        0\n",
              "accident_year                         0\n",
              "accident_reference                    0\n",
              "vehicle_reference                     0\n",
              "casualty_reference                    0\n",
              "casualty_class                        0\n",
              "sex_of_casualty                       0\n",
              "age_of_casualty                       0\n",
              "age_band_of_casualty                  0\n",
              "casualty_severity                     0\n",
              "pedestrian_location                   0\n",
              "pedestrian_movement                   0\n",
              "car_passenger                         0\n",
              "bus_or_coach_passenger                0\n",
              "pedestrian_road_maintenance_worker    0\n",
              "casualty_type                         0\n",
              "casualty_home_area_type               0\n",
              "casualty_imd_decile                   0\n",
              "lsoa_of_casualty                      0\n",
              "dtype: int64"
            ]
          },
          "metadata": {},
          "execution_count": 10
        }
      ]
    },
    {
      "cell_type": "code",
      "source": [
        "# Dtatset has not null amount"
      ],
      "metadata": {
        "id": "RwmaC1slLEUq"
      },
      "execution_count": null,
      "outputs": []
    },
    {
      "cell_type": "code",
      "source": [
        "#check duplicate rows"
      ],
      "metadata": {
        "id": "9w674pOXLE0v"
      },
      "execution_count": null,
      "outputs": []
    },
    {
      "cell_type": "code",
      "source": [
        "data.drop_duplicates()"
      ],
      "metadata": {
        "colab": {
          "base_uri": "https://localhost:8080/",
          "height": 443
        },
        "id": "9ga-N9m8LGbn",
        "outputId": "e7ea0e6f-9de7-40b3-ff58-187f3172e5eb"
      },
      "execution_count": null,
      "outputs": [
        {
          "output_type": "execute_result",
          "data": {
            "text/plain": [
              "      accident_index  accident_year accident_reference  vehicle_reference  \\\n",
              "0      2022070151244           2022          070151244                  2   \n",
              "1      2022070152668           2022          070152668                  1   \n",
              "2      2022070154696           2022          070154696                  1   \n",
              "3      2022070154696           2022          070154696                  2   \n",
              "4      2022070154696           2022          070154696                  3   \n",
              "...              ...            ...                ...                ...   \n",
              "61347  2022461156711           2022          461156711                  1   \n",
              "61348  2022461157243           2022          461157243                  1   \n",
              "61349  2022461157256           2022          461157256                  2   \n",
              "61350  2022461157316           2022          461157316                  1   \n",
              "61351  2022461159841           2022          461159841                  2   \n",
              "\n",
              "       casualty_reference  casualty_class  sex_of_casualty  age_of_casualty  \\\n",
              "0                       1               1                2               46   \n",
              "1                       1               1                1               30   \n",
              "2                       1               1                2               58   \n",
              "3                       3               1                2               78   \n",
              "4                       2               1                1               63   \n",
              "...                   ...             ...              ...              ...   \n",
              "61347                   1               3                2               56   \n",
              "61348                   1               3                1               14   \n",
              "61349                   1               1                1               42   \n",
              "61350                   1               1                2               40   \n",
              "61351                   1               1                1               71   \n",
              "\n",
              "       age_band_of_casualty  casualty_severity  pedestrian_location  \\\n",
              "0                         8                  3                    0   \n",
              "1                         6                  3                    0   \n",
              "2                         9                  3                    0   \n",
              "3                        11                  3                    0   \n",
              "4                         9                  3                    0   \n",
              "...                     ...                ...                  ...   \n",
              "61347                     9                  3                   10   \n",
              "61348                     3                  2                    5   \n",
              "61349                     7                  3                    0   \n",
              "61350                     7                  3                    0   \n",
              "61351                    10                  3                    0   \n",
              "\n",
              "       pedestrian_movement  car_passenger  bus_or_coach_passenger  \\\n",
              "0                        0              0                       0   \n",
              "1                        0              0                       0   \n",
              "2                        0              0                       0   \n",
              "3                        0              0                       0   \n",
              "4                        0              0                       0   \n",
              "...                    ...            ...                     ...   \n",
              "61347                    9              0                       0   \n",
              "61348                    9              0                       0   \n",
              "61349                    0              0                       0   \n",
              "61350                    0              0                       0   \n",
              "61351                    0              0                       0   \n",
              "\n",
              "       pedestrian_road_maintenance_worker  casualty_type  \\\n",
              "0                                       0              9   \n",
              "1                                       0              9   \n",
              "2                                       0              9   \n",
              "3                                       0              9   \n",
              "4                                       0              9   \n",
              "...                                   ...            ...   \n",
              "61347                                   0              0   \n",
              "61348                                   0              0   \n",
              "61349                                   0              9   \n",
              "61350                                   0              9   \n",
              "61351                                   0              9   \n",
              "\n",
              "       casualty_home_area_type  casualty_imd_decile lsoa_of_casualty  \n",
              "0                            1                    9        E01033378  \n",
              "1                            1                    2        E01018551  \n",
              "2                            1                   10        E01006134  \n",
              "3                            2                   10        E01018724  \n",
              "4                            3                    7        W01000578  \n",
              "...                        ...                  ...              ...  \n",
              "61347                        1                   10        E01024046  \n",
              "61348                       -1                   -1               -1  \n",
              "61349                        1                    5        E01016034  \n",
              "61350                        1                    3        E01024497  \n",
              "61351                        1                    2        E01016025  \n",
              "\n",
              "[61352 rows x 19 columns]"
            ],
            "text/html": [
              "\n",
              "  <div id=\"df-00369815-4d58-49af-b96a-30928b0dfc7e\" class=\"colab-df-container\">\n",
              "    <div>\n",
              "<style scoped>\n",
              "    .dataframe tbody tr th:only-of-type {\n",
              "        vertical-align: middle;\n",
              "    }\n",
              "\n",
              "    .dataframe tbody tr th {\n",
              "        vertical-align: top;\n",
              "    }\n",
              "\n",
              "    .dataframe thead th {\n",
              "        text-align: right;\n",
              "    }\n",
              "</style>\n",
              "<table border=\"1\" class=\"dataframe\">\n",
              "  <thead>\n",
              "    <tr style=\"text-align: right;\">\n",
              "      <th></th>\n",
              "      <th>accident_index</th>\n",
              "      <th>accident_year</th>\n",
              "      <th>accident_reference</th>\n",
              "      <th>vehicle_reference</th>\n",
              "      <th>casualty_reference</th>\n",
              "      <th>casualty_class</th>\n",
              "      <th>sex_of_casualty</th>\n",
              "      <th>age_of_casualty</th>\n",
              "      <th>age_band_of_casualty</th>\n",
              "      <th>casualty_severity</th>\n",
              "      <th>pedestrian_location</th>\n",
              "      <th>pedestrian_movement</th>\n",
              "      <th>car_passenger</th>\n",
              "      <th>bus_or_coach_passenger</th>\n",
              "      <th>pedestrian_road_maintenance_worker</th>\n",
              "      <th>casualty_type</th>\n",
              "      <th>casualty_home_area_type</th>\n",
              "      <th>casualty_imd_decile</th>\n",
              "      <th>lsoa_of_casualty</th>\n",
              "    </tr>\n",
              "  </thead>\n",
              "  <tbody>\n",
              "    <tr>\n",
              "      <th>0</th>\n",
              "      <td>2022070151244</td>\n",
              "      <td>2022</td>\n",
              "      <td>070151244</td>\n",
              "      <td>2</td>\n",
              "      <td>1</td>\n",
              "      <td>1</td>\n",
              "      <td>2</td>\n",
              "      <td>46</td>\n",
              "      <td>8</td>\n",
              "      <td>3</td>\n",
              "      <td>0</td>\n",
              "      <td>0</td>\n",
              "      <td>0</td>\n",
              "      <td>0</td>\n",
              "      <td>0</td>\n",
              "      <td>9</td>\n",
              "      <td>1</td>\n",
              "      <td>9</td>\n",
              "      <td>E01033378</td>\n",
              "    </tr>\n",
              "    <tr>\n",
              "      <th>1</th>\n",
              "      <td>2022070152668</td>\n",
              "      <td>2022</td>\n",
              "      <td>070152668</td>\n",
              "      <td>1</td>\n",
              "      <td>1</td>\n",
              "      <td>1</td>\n",
              "      <td>1</td>\n",
              "      <td>30</td>\n",
              "      <td>6</td>\n",
              "      <td>3</td>\n",
              "      <td>0</td>\n",
              "      <td>0</td>\n",
              "      <td>0</td>\n",
              "      <td>0</td>\n",
              "      <td>0</td>\n",
              "      <td>9</td>\n",
              "      <td>1</td>\n",
              "      <td>2</td>\n",
              "      <td>E01018551</td>\n",
              "    </tr>\n",
              "    <tr>\n",
              "      <th>2</th>\n",
              "      <td>2022070154696</td>\n",
              "      <td>2022</td>\n",
              "      <td>070154696</td>\n",
              "      <td>1</td>\n",
              "      <td>1</td>\n",
              "      <td>1</td>\n",
              "      <td>2</td>\n",
              "      <td>58</td>\n",
              "      <td>9</td>\n",
              "      <td>3</td>\n",
              "      <td>0</td>\n",
              "      <td>0</td>\n",
              "      <td>0</td>\n",
              "      <td>0</td>\n",
              "      <td>0</td>\n",
              "      <td>9</td>\n",
              "      <td>1</td>\n",
              "      <td>10</td>\n",
              "      <td>E01006134</td>\n",
              "    </tr>\n",
              "    <tr>\n",
              "      <th>3</th>\n",
              "      <td>2022070154696</td>\n",
              "      <td>2022</td>\n",
              "      <td>070154696</td>\n",
              "      <td>2</td>\n",
              "      <td>3</td>\n",
              "      <td>1</td>\n",
              "      <td>2</td>\n",
              "      <td>78</td>\n",
              "      <td>11</td>\n",
              "      <td>3</td>\n",
              "      <td>0</td>\n",
              "      <td>0</td>\n",
              "      <td>0</td>\n",
              "      <td>0</td>\n",
              "      <td>0</td>\n",
              "      <td>9</td>\n",
              "      <td>2</td>\n",
              "      <td>10</td>\n",
              "      <td>E01018724</td>\n",
              "    </tr>\n",
              "    <tr>\n",
              "      <th>4</th>\n",
              "      <td>2022070154696</td>\n",
              "      <td>2022</td>\n",
              "      <td>070154696</td>\n",
              "      <td>3</td>\n",
              "      <td>2</td>\n",
              "      <td>1</td>\n",
              "      <td>1</td>\n",
              "      <td>63</td>\n",
              "      <td>9</td>\n",
              "      <td>3</td>\n",
              "      <td>0</td>\n",
              "      <td>0</td>\n",
              "      <td>0</td>\n",
              "      <td>0</td>\n",
              "      <td>0</td>\n",
              "      <td>9</td>\n",
              "      <td>3</td>\n",
              "      <td>7</td>\n",
              "      <td>W01000578</td>\n",
              "    </tr>\n",
              "    <tr>\n",
              "      <th>...</th>\n",
              "      <td>...</td>\n",
              "      <td>...</td>\n",
              "      <td>...</td>\n",
              "      <td>...</td>\n",
              "      <td>...</td>\n",
              "      <td>...</td>\n",
              "      <td>...</td>\n",
              "      <td>...</td>\n",
              "      <td>...</td>\n",
              "      <td>...</td>\n",
              "      <td>...</td>\n",
              "      <td>...</td>\n",
              "      <td>...</td>\n",
              "      <td>...</td>\n",
              "      <td>...</td>\n",
              "      <td>...</td>\n",
              "      <td>...</td>\n",
              "      <td>...</td>\n",
              "      <td>...</td>\n",
              "    </tr>\n",
              "    <tr>\n",
              "      <th>61347</th>\n",
              "      <td>2022461156711</td>\n",
              "      <td>2022</td>\n",
              "      <td>461156711</td>\n",
              "      <td>1</td>\n",
              "      <td>1</td>\n",
              "      <td>3</td>\n",
              "      <td>2</td>\n",
              "      <td>56</td>\n",
              "      <td>9</td>\n",
              "      <td>3</td>\n",
              "      <td>10</td>\n",
              "      <td>9</td>\n",
              "      <td>0</td>\n",
              "      <td>0</td>\n",
              "      <td>0</td>\n",
              "      <td>0</td>\n",
              "      <td>1</td>\n",
              "      <td>10</td>\n",
              "      <td>E01024046</td>\n",
              "    </tr>\n",
              "    <tr>\n",
              "      <th>61348</th>\n",
              "      <td>2022461157243</td>\n",
              "      <td>2022</td>\n",
              "      <td>461157243</td>\n",
              "      <td>1</td>\n",
              "      <td>1</td>\n",
              "      <td>3</td>\n",
              "      <td>1</td>\n",
              "      <td>14</td>\n",
              "      <td>3</td>\n",
              "      <td>2</td>\n",
              "      <td>5</td>\n",
              "      <td>9</td>\n",
              "      <td>0</td>\n",
              "      <td>0</td>\n",
              "      <td>0</td>\n",
              "      <td>0</td>\n",
              "      <td>-1</td>\n",
              "      <td>-1</td>\n",
              "      <td>-1</td>\n",
              "    </tr>\n",
              "    <tr>\n",
              "      <th>61349</th>\n",
              "      <td>2022461157256</td>\n",
              "      <td>2022</td>\n",
              "      <td>461157256</td>\n",
              "      <td>2</td>\n",
              "      <td>1</td>\n",
              "      <td>1</td>\n",
              "      <td>1</td>\n",
              "      <td>42</td>\n",
              "      <td>7</td>\n",
              "      <td>3</td>\n",
              "      <td>0</td>\n",
              "      <td>0</td>\n",
              "      <td>0</td>\n",
              "      <td>0</td>\n",
              "      <td>0</td>\n",
              "      <td>9</td>\n",
              "      <td>1</td>\n",
              "      <td>5</td>\n",
              "      <td>E01016034</td>\n",
              "    </tr>\n",
              "    <tr>\n",
              "      <th>61350</th>\n",
              "      <td>2022461157316</td>\n",
              "      <td>2022</td>\n",
              "      <td>461157316</td>\n",
              "      <td>1</td>\n",
              "      <td>1</td>\n",
              "      <td>1</td>\n",
              "      <td>2</td>\n",
              "      <td>40</td>\n",
              "      <td>7</td>\n",
              "      <td>3</td>\n",
              "      <td>0</td>\n",
              "      <td>0</td>\n",
              "      <td>0</td>\n",
              "      <td>0</td>\n",
              "      <td>0</td>\n",
              "      <td>9</td>\n",
              "      <td>1</td>\n",
              "      <td>3</td>\n",
              "      <td>E01024497</td>\n",
              "    </tr>\n",
              "    <tr>\n",
              "      <th>61351</th>\n",
              "      <td>2022461159841</td>\n",
              "      <td>2022</td>\n",
              "      <td>461159841</td>\n",
              "      <td>2</td>\n",
              "      <td>1</td>\n",
              "      <td>1</td>\n",
              "      <td>1</td>\n",
              "      <td>71</td>\n",
              "      <td>10</td>\n",
              "      <td>3</td>\n",
              "      <td>0</td>\n",
              "      <td>0</td>\n",
              "      <td>0</td>\n",
              "      <td>0</td>\n",
              "      <td>0</td>\n",
              "      <td>9</td>\n",
              "      <td>1</td>\n",
              "      <td>2</td>\n",
              "      <td>E01016025</td>\n",
              "    </tr>\n",
              "  </tbody>\n",
              "</table>\n",
              "<p>61352 rows × 19 columns</p>\n",
              "</div>\n",
              "    <div class=\"colab-df-buttons\">\n",
              "\n",
              "  <div class=\"colab-df-container\">\n",
              "    <button class=\"colab-df-convert\" onclick=\"convertToInteractive('df-00369815-4d58-49af-b96a-30928b0dfc7e')\"\n",
              "            title=\"Convert this dataframe to an interactive table.\"\n",
              "            style=\"display:none;\">\n",
              "\n",
              "  <svg xmlns=\"http://www.w3.org/2000/svg\" height=\"24px\" viewBox=\"0 -960 960 960\">\n",
              "    <path d=\"M120-120v-720h720v720H120Zm60-500h600v-160H180v160Zm220 220h160v-160H400v160Zm0 220h160v-160H400v160ZM180-400h160v-160H180v160Zm440 0h160v-160H620v160ZM180-180h160v-160H180v160Zm440 0h160v-160H620v160Z\"/>\n",
              "  </svg>\n",
              "    </button>\n",
              "\n",
              "  <style>\n",
              "    .colab-df-container {\n",
              "      display:flex;\n",
              "      gap: 12px;\n",
              "    }\n",
              "\n",
              "    .colab-df-convert {\n",
              "      background-color: #E8F0FE;\n",
              "      border: none;\n",
              "      border-radius: 50%;\n",
              "      cursor: pointer;\n",
              "      display: none;\n",
              "      fill: #1967D2;\n",
              "      height: 32px;\n",
              "      padding: 0 0 0 0;\n",
              "      width: 32px;\n",
              "    }\n",
              "\n",
              "    .colab-df-convert:hover {\n",
              "      background-color: #E2EBFA;\n",
              "      box-shadow: 0px 1px 2px rgba(60, 64, 67, 0.3), 0px 1px 3px 1px rgba(60, 64, 67, 0.15);\n",
              "      fill: #174EA6;\n",
              "    }\n",
              "\n",
              "    .colab-df-buttons div {\n",
              "      margin-bottom: 4px;\n",
              "    }\n",
              "\n",
              "    [theme=dark] .colab-df-convert {\n",
              "      background-color: #3B4455;\n",
              "      fill: #D2E3FC;\n",
              "    }\n",
              "\n",
              "    [theme=dark] .colab-df-convert:hover {\n",
              "      background-color: #434B5C;\n",
              "      box-shadow: 0px 1px 3px 1px rgba(0, 0, 0, 0.15);\n",
              "      filter: drop-shadow(0px 1px 2px rgba(0, 0, 0, 0.3));\n",
              "      fill: #FFFFFF;\n",
              "    }\n",
              "  </style>\n",
              "\n",
              "    <script>\n",
              "      const buttonEl =\n",
              "        document.querySelector('#df-00369815-4d58-49af-b96a-30928b0dfc7e button.colab-df-convert');\n",
              "      buttonEl.style.display =\n",
              "        google.colab.kernel.accessAllowed ? 'block' : 'none';\n",
              "\n",
              "      async function convertToInteractive(key) {\n",
              "        const element = document.querySelector('#df-00369815-4d58-49af-b96a-30928b0dfc7e');\n",
              "        const dataTable =\n",
              "          await google.colab.kernel.invokeFunction('convertToInteractive',\n",
              "                                                    [key], {});\n",
              "        if (!dataTable) return;\n",
              "\n",
              "        const docLinkHtml = 'Like what you see? Visit the ' +\n",
              "          '<a target=\"_blank\" href=https://colab.research.google.com/notebooks/data_table.ipynb>data table notebook</a>'\n",
              "          + ' to learn more about interactive tables.';\n",
              "        element.innerHTML = '';\n",
              "        dataTable['output_type'] = 'display_data';\n",
              "        await google.colab.output.renderOutput(dataTable, element);\n",
              "        const docLink = document.createElement('div');\n",
              "        docLink.innerHTML = docLinkHtml;\n",
              "        element.appendChild(docLink);\n",
              "      }\n",
              "    </script>\n",
              "  </div>\n",
              "\n",
              "\n",
              "<div id=\"df-48107c29-43d4-4b85-8231-e997de1d29fc\">\n",
              "  <button class=\"colab-df-quickchart\" onclick=\"quickchart('df-48107c29-43d4-4b85-8231-e997de1d29fc')\"\n",
              "            title=\"Suggest charts\"\n",
              "            style=\"display:none;\">\n",
              "\n",
              "<svg xmlns=\"http://www.w3.org/2000/svg\" height=\"24px\"viewBox=\"0 0 24 24\"\n",
              "     width=\"24px\">\n",
              "    <g>\n",
              "        <path d=\"M19 3H5c-1.1 0-2 .9-2 2v14c0 1.1.9 2 2 2h14c1.1 0 2-.9 2-2V5c0-1.1-.9-2-2-2zM9 17H7v-7h2v7zm4 0h-2V7h2v10zm4 0h-2v-4h2v4z\"/>\n",
              "    </g>\n",
              "</svg>\n",
              "  </button>\n",
              "\n",
              "<style>\n",
              "  .colab-df-quickchart {\n",
              "      --bg-color: #E8F0FE;\n",
              "      --fill-color: #1967D2;\n",
              "      --hover-bg-color: #E2EBFA;\n",
              "      --hover-fill-color: #174EA6;\n",
              "      --disabled-fill-color: #AAA;\n",
              "      --disabled-bg-color: #DDD;\n",
              "  }\n",
              "\n",
              "  [theme=dark] .colab-df-quickchart {\n",
              "      --bg-color: #3B4455;\n",
              "      --fill-color: #D2E3FC;\n",
              "      --hover-bg-color: #434B5C;\n",
              "      --hover-fill-color: #FFFFFF;\n",
              "      --disabled-bg-color: #3B4455;\n",
              "      --disabled-fill-color: #666;\n",
              "  }\n",
              "\n",
              "  .colab-df-quickchart {\n",
              "    background-color: var(--bg-color);\n",
              "    border: none;\n",
              "    border-radius: 50%;\n",
              "    cursor: pointer;\n",
              "    display: none;\n",
              "    fill: var(--fill-color);\n",
              "    height: 32px;\n",
              "    padding: 0;\n",
              "    width: 32px;\n",
              "  }\n",
              "\n",
              "  .colab-df-quickchart:hover {\n",
              "    background-color: var(--hover-bg-color);\n",
              "    box-shadow: 0 1px 2px rgba(60, 64, 67, 0.3), 0 1px 3px 1px rgba(60, 64, 67, 0.15);\n",
              "    fill: var(--button-hover-fill-color);\n",
              "  }\n",
              "\n",
              "  .colab-df-quickchart-complete:disabled,\n",
              "  .colab-df-quickchart-complete:disabled:hover {\n",
              "    background-color: var(--disabled-bg-color);\n",
              "    fill: var(--disabled-fill-color);\n",
              "    box-shadow: none;\n",
              "  }\n",
              "\n",
              "  .colab-df-spinner {\n",
              "    border: 2px solid var(--fill-color);\n",
              "    border-color: transparent;\n",
              "    border-bottom-color: var(--fill-color);\n",
              "    animation:\n",
              "      spin 1s steps(1) infinite;\n",
              "  }\n",
              "\n",
              "  @keyframes spin {\n",
              "    0% {\n",
              "      border-color: transparent;\n",
              "      border-bottom-color: var(--fill-color);\n",
              "      border-left-color: var(--fill-color);\n",
              "    }\n",
              "    20% {\n",
              "      border-color: transparent;\n",
              "      border-left-color: var(--fill-color);\n",
              "      border-top-color: var(--fill-color);\n",
              "    }\n",
              "    30% {\n",
              "      border-color: transparent;\n",
              "      border-left-color: var(--fill-color);\n",
              "      border-top-color: var(--fill-color);\n",
              "      border-right-color: var(--fill-color);\n",
              "    }\n",
              "    40% {\n",
              "      border-color: transparent;\n",
              "      border-right-color: var(--fill-color);\n",
              "      border-top-color: var(--fill-color);\n",
              "    }\n",
              "    60% {\n",
              "      border-color: transparent;\n",
              "      border-right-color: var(--fill-color);\n",
              "    }\n",
              "    80% {\n",
              "      border-color: transparent;\n",
              "      border-right-color: var(--fill-color);\n",
              "      border-bottom-color: var(--fill-color);\n",
              "    }\n",
              "    90% {\n",
              "      border-color: transparent;\n",
              "      border-bottom-color: var(--fill-color);\n",
              "    }\n",
              "  }\n",
              "</style>\n",
              "\n",
              "  <script>\n",
              "    async function quickchart(key) {\n",
              "      const quickchartButtonEl =\n",
              "        document.querySelector('#' + key + ' button');\n",
              "      quickchartButtonEl.disabled = true;  // To prevent multiple clicks.\n",
              "      quickchartButtonEl.classList.add('colab-df-spinner');\n",
              "      try {\n",
              "        const charts = await google.colab.kernel.invokeFunction(\n",
              "            'suggestCharts', [key], {});\n",
              "      } catch (error) {\n",
              "        console.error('Error during call to suggestCharts:', error);\n",
              "      }\n",
              "      quickchartButtonEl.classList.remove('colab-df-spinner');\n",
              "      quickchartButtonEl.classList.add('colab-df-quickchart-complete');\n",
              "    }\n",
              "    (() => {\n",
              "      let quickchartButtonEl =\n",
              "        document.querySelector('#df-48107c29-43d4-4b85-8231-e997de1d29fc button');\n",
              "      quickchartButtonEl.style.display =\n",
              "        google.colab.kernel.accessAllowed ? 'block' : 'none';\n",
              "    })();\n",
              "  </script>\n",
              "</div>\n",
              "    </div>\n",
              "  </div>\n"
            ],
            "application/vnd.google.colaboratory.intrinsic+json": {
              "type": "dataframe",
              "summary": "{\n  \"name\": \"data\",\n  \"rows\": 61352,\n  \"fields\": [\n    {\n      \"column\": \"accident_index\",\n      \"properties\": {\n        \"dtype\": \"string\",\n        \"num_unique_values\": 48283,\n        \"samples\": [\n          \"2022401183536\",\n          \"2022481177941\",\n          \"2022440118724\"\n        ],\n        \"semantic_type\": \"\",\n        \"description\": \"\"\n      }\n    },\n    {\n      \"column\": \"accident_year\",\n      \"properties\": {\n        \"dtype\": \"number\",\n        \"std\": 0,\n        \"min\": 2022,\n        \"max\": 2022,\n        \"num_unique_values\": 1,\n        \"samples\": [\n          2022\n        ],\n        \"semantic_type\": \"\",\n        \"description\": \"\"\n      }\n    },\n    {\n      \"column\": \"accident_reference\",\n      \"properties\": {\n        \"dtype\": \"string\",\n        \"num_unique_values\": 48283,\n        \"samples\": [\n          \"401183536\"\n        ],\n        \"semantic_type\": \"\",\n        \"description\": \"\"\n      }\n    },\n    {\n      \"column\": \"vehicle_reference\",\n      \"properties\": {\n        \"dtype\": \"number\",\n        \"std\": 1,\n        \"min\": 1,\n        \"max\": 227,\n        \"num_unique_values\": 11,\n        \"samples\": [\n          8\n        ],\n        \"semantic_type\": \"\",\n        \"description\": \"\"\n      }\n    },\n    {\n      \"column\": \"casualty_reference\",\n      \"properties\": {\n        \"dtype\": \"number\",\n        \"std\": 0,\n        \"min\": 1,\n        \"max\": 148,\n        \"num_unique_values\": 18,\n        \"samples\": [\n          1\n        ],\n        \"semantic_type\": \"\",\n        \"description\": \"\"\n      }\n    },\n    {\n      \"column\": \"casualty_class\",\n      \"properties\": {\n        \"dtype\": \"number\",\n        \"std\": 0,\n        \"min\": 1,\n        \"max\": 3,\n        \"num_unique_values\": 3,\n        \"samples\": [\n          1\n        ],\n        \"semantic_type\": \"\",\n        \"description\": \"\"\n      }\n    },\n    {\n      \"column\": \"sex_of_casualty\",\n      \"properties\": {\n        \"dtype\": \"number\",\n        \"std\": 0,\n        \"min\": -1,\n        \"max\": 9,\n        \"num_unique_values\": 4,\n        \"samples\": [\n          1\n        ],\n        \"semantic_type\": \"\",\n        \"description\": \"\"\n      }\n    },\n    {\n      \"column\": \"age_of_casualty\",\n      \"properties\": {\n        \"dtype\": \"number\",\n        \"std\": 19,\n        \"min\": -1,\n        \"max\": 101,\n        \"num_unique_values\": 102,\n        \"samples\": [\n          43\n        ],\n        \"semantic_type\": \"\",\n        \"description\": \"\"\n      }\n    },\n    {\n      \"column\": \"age_band_of_casualty\",\n      \"properties\": {\n        \"dtype\": \"number\",\n        \"std\": 2,\n        \"min\": -1,\n        \"max\": 11,\n        \"num_unique_values\": 12,\n        \"samples\": [\n          1\n        ],\n        \"semantic_type\": \"\",\n        \"description\": \"\"\n      }\n    },\n    {\n      \"column\": \"casualty_severity\",\n      \"properties\": {\n        \"dtype\": \"number\",\n        \"std\": 0,\n        \"min\": 1,\n        \"max\": 3,\n        \"num_unique_values\": 3,\n        \"samples\": [\n          3\n        ],\n        \"semantic_type\": \"\",\n        \"description\": \"\"\n      }\n    },\n    {\n      \"column\": \"pedestrian_location\",\n      \"properties\": {\n        \"dtype\": \"number\",\n        \"std\": 2,\n        \"min\": 0,\n        \"max\": 10,\n        \"num_unique_values\": 11,\n        \"samples\": [\n          8\n        ],\n        \"semantic_type\": \"\",\n        \"description\": \"\"\n      }\n    },\n    {\n      \"column\": \"pedestrian_movement\",\n      \"properties\": {\n        \"dtype\": \"number\",\n        \"std\": 2,\n        \"min\": 0,\n        \"max\": 9,\n        \"num_unique_values\": 10,\n        \"samples\": [\n          4\n        ],\n        \"semantic_type\": \"\",\n        \"description\": \"\"\n      }\n    },\n    {\n      \"column\": \"car_passenger\",\n      \"properties\": {\n        \"dtype\": \"number\",\n        \"std\": 0,\n        \"min\": -1,\n        \"max\": 9,\n        \"num_unique_values\": 5,\n        \"samples\": [\n          2\n        ],\n        \"semantic_type\": \"\",\n        \"description\": \"\"\n      }\n    },\n    {\n      \"column\": \"bus_or_coach_passenger\",\n      \"properties\": {\n        \"dtype\": \"number\",\n        \"std\": 0,\n        \"min\": -1,\n        \"max\": 9,\n        \"num_unique_values\": 7,\n        \"samples\": [\n          0\n        ],\n        \"semantic_type\": \"\",\n        \"description\": \"\"\n      }\n    },\n    {\n      \"column\": \"pedestrian_road_maintenance_worker\",\n      \"properties\": {\n        \"dtype\": \"number\",\n        \"std\": 0,\n        \"min\": -1,\n        \"max\": 2,\n        \"num_unique_values\": 4,\n        \"samples\": [\n          2\n        ],\n        \"semantic_type\": \"\",\n        \"description\": \"\"\n      }\n    },\n    {\n      \"column\": \"casualty_type\",\n      \"properties\": {\n        \"dtype\": \"number\",\n        \"std\": 16,\n        \"min\": -1,\n        \"max\": 98,\n        \"num_unique_values\": 22,\n        \"samples\": [\n          9\n        ],\n        \"semantic_type\": \"\",\n        \"description\": \"\"\n      }\n    },\n    {\n      \"column\": \"casualty_home_area_type\",\n      \"properties\": {\n        \"dtype\": \"number\",\n        \"std\": 0,\n        \"min\": -1,\n        \"max\": 3,\n        \"num_unique_values\": 4,\n        \"samples\": [\n          2\n        ],\n        \"semantic_type\": \"\",\n        \"description\": \"\"\n      }\n    },\n    {\n      \"column\": \"casualty_imd_decile\",\n      \"properties\": {\n        \"dtype\": \"number\",\n        \"std\": 3,\n        \"min\": -1,\n        \"max\": 10,\n        \"num_unique_values\": 11,\n        \"samples\": [\n          5\n        ],\n        \"semantic_type\": \"\",\n        \"description\": \"\"\n      }\n    },\n    {\n      \"column\": \"lsoa_of_casualty\",\n      \"properties\": {\n        \"dtype\": \"category\",\n        \"num_unique_values\": 23841,\n        \"samples\": [\n          \"E01023009\"\n        ],\n        \"semantic_type\": \"\",\n        \"description\": \"\"\n      }\n    }\n  ]\n}"
            }
          },
          "metadata": {},
          "execution_count": 13
        }
      ]
    },
    {
      "cell_type": "code",
      "source": [
        "# Dtatset has not duplicate rows"
      ],
      "metadata": {
        "id": "YmFhbBKRLKqd"
      },
      "execution_count": null,
      "outputs": []
    },
    {
      "cell_type": "code",
      "source": [
        "#Delete outliers for numarical columns"
      ],
      "metadata": {
        "id": "EdtslUiXLMOI"
      },
      "execution_count": null,
      "outputs": []
    },
    {
      "cell_type": "code",
      "source": [
        "data.info()"
      ],
      "metadata": {
        "colab": {
          "base_uri": "https://localhost:8080/"
        },
        "id": "aqhzMKW_LNvP",
        "outputId": "5ce83077-1b43-43ab-ea2a-bb1fc27f71ac"
      },
      "execution_count": null,
      "outputs": [
        {
          "output_type": "stream",
          "name": "stdout",
          "text": [
            "<class 'pandas.core.frame.DataFrame'>\n",
            "RangeIndex: 61352 entries, 0 to 61351\n",
            "Data columns (total 19 columns):\n",
            " #   Column                              Non-Null Count  Dtype \n",
            "---  ------                              --------------  ----- \n",
            " 0   accident_index                      61352 non-null  object\n",
            " 1   accident_year                       61352 non-null  int64 \n",
            " 2   accident_reference                  61352 non-null  object\n",
            " 3   vehicle_reference                   61352 non-null  int64 \n",
            " 4   casualty_reference                  61352 non-null  int64 \n",
            " 5   casualty_class                      61352 non-null  int64 \n",
            " 6   sex_of_casualty                     61352 non-null  int64 \n",
            " 7   age_of_casualty                     61352 non-null  int64 \n",
            " 8   age_band_of_casualty                61352 non-null  int64 \n",
            " 9   casualty_severity                   61352 non-null  int64 \n",
            " 10  pedestrian_location                 61352 non-null  int64 \n",
            " 11  pedestrian_movement                 61352 non-null  int64 \n",
            " 12  car_passenger                       61352 non-null  int64 \n",
            " 13  bus_or_coach_passenger              61352 non-null  int64 \n",
            " 14  pedestrian_road_maintenance_worker  61352 non-null  int64 \n",
            " 15  casualty_type                       61352 non-null  int64 \n",
            " 16  casualty_home_area_type             61352 non-null  int64 \n",
            " 17  casualty_imd_decile                 61352 non-null  int64 \n",
            " 18  lsoa_of_casualty                    61352 non-null  object\n",
            "dtypes: int64(16), object(3)\n",
            "memory usage: 8.9+ MB\n"
          ]
        }
      ]
    },
    {
      "cell_type": "code",
      "source": [
        "data['accident_year'].value_counts().plot(kind='bar')"
      ],
      "metadata": {
        "id": "4Pi7IAtTLQEm",
        "colab": {
          "base_uri": "https://localhost:8080/",
          "height": 469
        },
        "outputId": "200d6763-dcbd-48aa-9c43-1cfb460f5b7e"
      },
      "execution_count": null,
      "outputs": [
        {
          "output_type": "execute_result",
          "data": {
            "text/plain": [
              "<Axes: >"
            ]
          },
          "metadata": {},
          "execution_count": 17
        },
        {
          "output_type": "display_data",
          "data": {
            "text/plain": [
              "<Figure size 640x480 with 1 Axes>"
            ],
            "image/png": "[encoded data removed]"
          },
          "metadata": {}
        }
      ]
    },
    {
      "cell_type": "code",
      "source": [
        "# I want to check outlaiers for all columns"
      ],
      "metadata": {
        "id": "Lsp7TbT6hYsa"
      },
      "execution_count": null,
      "outputs": []
    },
    {
      "cell_type": "code",
      "source": [
        "#'accident_index' column it is fixed and does not has effect on the analyze"
      ],
      "metadata": {
        "id": "9wUFqf3mLSo3"
      },
      "execution_count": null,
      "outputs": []
    },
    {
      "cell_type": "code",
      "source": [
        "data.drop(columns=['accident_year'], inplace=True)"
      ],
      "metadata": {
        "id": "O9oxOK1cLUPf"
      },
      "execution_count": null,
      "outputs": []
    },
    {
      "cell_type": "code",
      "source": [
        "data.info()"
      ],
      "metadata": {
        "id": "rYkmur5qLWQ-",
        "colab": {
          "base_uri": "https://localhost:8080/"
        },
        "outputId": "f83253da-71af-4885-cf79-b2deabc2dc4b"
      },
      "execution_count": null,
      "outputs": [
        {
          "output_type": "stream",
          "name": "stdout",
          "text": [
            "<class 'pandas.core.frame.DataFrame'>\n",
            "RangeIndex: 61352 entries, 0 to 61351\n",
            "Data columns (total 18 columns):\n",
            " #   Column                              Non-Null Count  Dtype \n",
            "---  ------                              --------------  ----- \n",
            " 0   accident_index                      61352 non-null  object\n",
            " 1   accident_reference                  61352 non-null  object\n",
            " 2   vehicle_reference                   61352 non-null  int64 \n",
            " 3   casualty_reference                  61352 non-null  int64 \n",
            " 4   casualty_class                      61352 non-null  int64 \n",
            " 5   sex_of_casualty                     61352 non-null  int64 \n",
            " 6   age_of_casualty                     61352 non-null  int64 \n",
            " 7   age_band_of_casualty                61352 non-null  int64 \n",
            " 8   casualty_severity                   61352 non-null  int64 \n",
            " 9   pedestrian_location                 61352 non-null  int64 \n",
            " 10  pedestrian_movement                 61352 non-null  int64 \n",
            " 11  car_passenger                       61352 non-null  int64 \n",
            " 12  bus_or_coach_passenger              61352 non-null  int64 \n",
            " 13  pedestrian_road_maintenance_worker  61352 non-null  int64 \n",
            " 14  casualty_type                       61352 non-null  int64 \n",
            " 15  casualty_home_area_type             61352 non-null  int64 \n",
            " 16  casualty_imd_decile                 61352 non-null  int64 \n",
            " 17  lsoa_of_casualty                    61352 non-null  object\n",
            "dtypes: int64(15), object(3)\n",
            "memory usage: 8.4+ MB\n"
          ]
        }
      ]
    },
    {
      "cell_type": "code",
      "source": [
        "# Analyz on the 'accident_index'column it is ID, So we will maintain it without any change"
      ],
      "metadata": {
        "id": "94HL0KOmet2T"
      },
      "execution_count": null,
      "outputs": []
    },
    {
      "cell_type": "code",
      "source": [
        "#data['accident_index'].value_counts().plot(kind='bar')"
      ],
      "metadata": {
        "id": "O7u_a_3xLZH2"
      },
      "execution_count": null,
      "outputs": []
    },
    {
      "cell_type": "code",
      "source": [
        "data['accident_index'].value_counts()"
      ],
      "metadata": {
        "id": "vN_mHsSTL23t",
        "colab": {
          "base_uri": "https://localhost:8080/"
        },
        "outputId": "bdb60da2-6942-4f49-f391-d1b39b4e8a45"
      },
      "execution_count": null,
      "outputs": [
        {
          "output_type": "execute_result",
          "data": {
            "text/plain": [
              "2022010356595    16\n",
              "2022010377133    16\n",
              "2022411164580    14\n",
              "2022211187319    13\n",
              "2022471142394    13\n",
              "                 ..\n",
              "2022101150789     1\n",
              "2022101151215     1\n",
              "2022101151304     1\n",
              "2022101151620     1\n",
              "2022461157316     1\n",
              "Name: accident_index, Length: 48283, dtype: int64"
            ]
          },
          "metadata": {},
          "execution_count": 24
        }
      ]
    },
    {
      "cell_type": "code",
      "source": [
        "# Filter the DataFrame based on the 'accident_index' value\n",
        "df=data.copy()\n",
        "result_rows = df[df['accident_index'] == '2022010356595']"
      ],
      "metadata": {
        "id": "nxVl0_MKdHj0"
      },
      "execution_count": null,
      "outputs": []
    },
    {
      "cell_type": "code",
      "source": [
        "result_rows"
      ],
      "metadata": {
        "id": "BNRG2cEIdcx0",
        "colab": {
          "base_uri": "https://localhost:8080/",
          "height": 571
        },
        "outputId": "1c6c0fc2-42d5-4c4f-c539-40fee9126399"
      },
      "execution_count": null,
      "outputs": [
        {
          "output_type": "execute_result",
          "data": {
            "text/plain": [
              "      accident_index accident_reference  vehicle_reference  \\\n",
              "20182  2022010356595          010356595                  1   \n",
              "20183  2022010356595          010356595                  1   \n",
              "20184  2022010356595          010356595                  1   \n",
              "20185  2022010356595          010356595                  1   \n",
              "20186  2022010356595          010356595                  1   \n",
              "20187  2022010356595          010356595                  1   \n",
              "20188  2022010356595          010356595                  1   \n",
              "20189  2022010356595          010356595                  1   \n",
              "20190  2022010356595          010356595                  1   \n",
              "20191  2022010356595          010356595                  1   \n",
              "20192  2022010356595          010356595                  1   \n",
              "20193  2022010356595          010356595                  1   \n",
              "20194  2022010356595          010356595                  1   \n",
              "20195  2022010356595          010356595                  1   \n",
              "20196  2022010356595          010356595                  1   \n",
              "20197  2022010356595          010356595                  1   \n",
              "\n",
              "       casualty_reference  casualty_class  sex_of_casualty  age_of_casualty  \\\n",
              "20182                   1               1                1               66   \n",
              "20183                   2               2                2               39   \n",
              "20184                   3               2                1               10   \n",
              "20185                   4               2                2               13   \n",
              "20186                   5               2                2               15   \n",
              "20187                   6               2                2               15   \n",
              "20188                   7               2                2                8   \n",
              "20189                   8               2                2               11   \n",
              "20190                   9               2                1                8   \n",
              "20191                  10               2                2               37   \n",
              "20192                  11               2                1               17   \n",
              "20193                  12               2                1               28   \n",
              "20194                  13               2                2                7   \n",
              "20195                  14               2                2               37   \n",
              "20196                  15               2                2               31   \n",
              "20197                  16               2                2                7   \n",
              "\n",
              "       age_band_of_casualty  casualty_severity  pedestrian_location  \\\n",
              "20182                    10                  3                    0   \n",
              "20183                     7                  3                    0   \n",
              "20184                     2                  3                    0   \n",
              "20185                     3                  2                    0   \n",
              "20186                     3                  3                    0   \n",
              "20187                     3                  3                    0   \n",
              "20188                     2                  3                    0   \n",
              "20189                     3                  3                    0   \n",
              "20190                     2                  3                    0   \n",
              "20191                     7                  3                    0   \n",
              "20192                     4                  3                    0   \n",
              "20193                     6                  3                    0   \n",
              "20194                     2                  3                    0   \n",
              "20195                     7                  3                    0   \n",
              "20196                     6                  3                    0   \n",
              "20197                     2                  3                    0   \n",
              "\n",
              "       pedestrian_movement  car_passenger  bus_or_coach_passenger  \\\n",
              "20182                    0              0                       0   \n",
              "20183                    0              0                       4   \n",
              "20184                    0              0                       4   \n",
              "20185                    0              0                       4   \n",
              "20186                    0              0                       4   \n",
              "20187                    0              0                       4   \n",
              "20188                    0              0                       4   \n",
              "20189                    0              0                       4   \n",
              "20190                    0              0                       4   \n",
              "20191                    0              0                       4   \n",
              "20192                    0              0                       4   \n",
              "20193                    0              0                       4   \n",
              "20194                    0              0                       4   \n",
              "20195                    0              0                       4   \n",
              "20196                    0              0                       4   \n",
              "20197                    0              0                       4   \n",
              "\n",
              "       pedestrian_road_maintenance_worker  casualty_type  \\\n",
              "20182                                   0             11   \n",
              "20183                                   0             11   \n",
              "20184                                   0             11   \n",
              "20185                                   0             11   \n",
              "20186                                   0             11   \n",
              "20187                                   0             11   \n",
              "20188                                   0             11   \n",
              "20189                                   0             11   \n",
              "20190                                   0             11   \n",
              "20191                                   0             11   \n",
              "20192                                   0             11   \n",
              "20193                                   0             11   \n",
              "20194                                   0             11   \n",
              "20195                                   0             11   \n",
              "20196                                   0             11   \n",
              "20197                                   0             11   \n",
              "\n",
              "       casualty_home_area_type  casualty_imd_decile lsoa_of_casualty  \n",
              "20182                        1                    3        E01004440  \n",
              "20183                        1                    2        E01001506  \n",
              "20184                       -1                   -1               -1  \n",
              "20185                        1                    6        E01004360  \n",
              "20186                       -1                   -1               -1  \n",
              "20187                       -1                   -1               -1  \n",
              "20188                       -1                   -1               -1  \n",
              "20189                       -1                   -1               -1  \n",
              "20190                       -1                   -1               -1  \n",
              "20191                       -1                   -1               -1  \n",
              "20192                       -1                   -1               -1  \n",
              "20193                       -1                   -1               -1  \n",
              "20194                       -1                   -1               -1  \n",
              "20195                       -1                   -1               -1  \n",
              "20196                        1                    2        E01004365  \n",
              "20197                        1                    2        E01001506  "
            ],
            "text/html": [
              "\n",
              "  <div id=\"df-02d63f35-260a-46ac-a512-9f8d8a2dbc67\" class=\"colab-df-container\">\n",
              "    <div>\n",
              "<style scoped>\n",
              "    .dataframe tbody tr th:only-of-type {\n",
              "        vertical-align: middle;\n",
              "    }\n",
              "\n",
              "    .dataframe tbody tr th {\n",
              "        vertical-align: top;\n",
              "    }\n",
              "\n",
              "    .dataframe thead th {\n",
              "        text-align: right;\n",
              "    }\n",
              "</style>\n",
              "<table border=\"1\" class=\"dataframe\">\n",
              "  <thead>\n",
              "    <tr style=\"text-align: right;\">\n",
              "      <th></th>\n",
              "      <th>accident_index</th>\n",
              "      <th>accident_reference</th>\n",
              "      <th>vehicle_reference</th>\n",
              "      <th>casualty_reference</th>\n",
              "      <th>casualty_class</th>\n",
              "      <th>sex_of_casualty</th>\n",
              "      <th>age_of_casualty</th>\n",
              "      <th>age_band_of_casualty</th>\n",
              "      <th>casualty_severity</th>\n",
              "      <th>pedestrian_location</th>\n",
              "      <th>pedestrian_movement</th>\n",
              "      <th>car_passenger</th>\n",
              "      <th>bus_or_coach_passenger</th>\n",
              "      <th>pedestrian_road_maintenance_worker</th>\n",
              "      <th>casualty_type</th>\n",
              "      <th>casualty_home_area_type</th>\n",
              "      <th>casualty_imd_decile</th>\n",
              "      <th>lsoa_of_casualty</th>\n",
              "    </tr>\n",
              "  </thead>\n",
              "  <tbody>\n",
              "    <tr>\n",
              "      <th>20182</th>\n",
              "      <td>2022010356595</td>\n",
              "      <td>010356595</td>\n",
              "      <td>1</td>\n",
              "      <td>1</td>\n",
              "      <td>1</td>\n",
              "      <td>1</td>\n",
              "      <td>66</td>\n",
              "      <td>10</td>\n",
              "      <td>3</td>\n",
              "      <td>0</td>\n",
              "      <td>0</td>\n",
              "      <td>0</td>\n",
              "      <td>0</td>\n",
              "      <td>0</td>\n",
              "      <td>11</td>\n",
              "      <td>1</td>\n",
              "      <td>3</td>\n",
              "      <td>E01004440</td>\n",
              "    </tr>\n",
              "    <tr>\n",
              "      <th>20183</th>\n",
              "      <td>2022010356595</td>\n",
              "      <td>010356595</td>\n",
              "      <td>1</td>\n",
              "      <td>2</td>\n",
              "      <td>2</td>\n",
              "      <td>2</td>\n",
              "      <td>39</td>\n",
              "      <td>7</td>\n",
              "      <td>3</td>\n",
              "      <td>0</td>\n",
              "      <td>0</td>\n",
              "      <td>0</td>\n",
              "      <td>4</td>\n",
              "      <td>0</td>\n",
              "      <td>11</td>\n",
              "      <td>1</td>\n",
              "      <td>2</td>\n",
              "      <td>E01001506</td>\n",
              "    </tr>\n",
              "    <tr>\n",
              "      <th>20184</th>\n",
              "      <td>2022010356595</td>\n",
              "      <td>010356595</td>\n",
              "      <td>1</td>\n",
              "      <td>3</td>\n",
              "      <td>2</td>\n",
              "      <td>1</td>\n",
              "      <td>10</td>\n",
              "      <td>2</td>\n",
              "      <td>3</td>\n",
              "      <td>0</td>\n",
              "      <td>0</td>\n",
              "      <td>0</td>\n",
              "      <td>4</td>\n",
              "      <td>0</td>\n",
              "      <td>11</td>\n",
              "      <td>-1</td>\n",
              "      <td>-1</td>\n",
              "      <td>-1</td>\n",
              "    </tr>\n",
              "    <tr>\n",
              "      <th>20185</th>\n",
              "      <td>2022010356595</td>\n",
              "      <td>010356595</td>\n",
              "      <td>1</td>\n",
              "      <td>4</td>\n",
              "      <td>2</td>\n",
              "      <td>2</td>\n",
              "      <td>13</td>\n",
              "      <td>3</td>\n",
              "      <td>2</td>\n",
              "      <td>0</td>\n",
              "      <td>0</td>\n",
              "      <td>0</td>\n",
              "      <td>4</td>\n",
              "      <td>0</td>\n",
              "      <td>11</td>\n",
              "      <td>1</td>\n",
              "      <td>6</td>\n",
              "      <td>E01004360</td>\n",
              "    </tr>\n",
              "    <tr>\n",
              "      <th>20186</th>\n",
              "      <td>2022010356595</td>\n",
              "      <td>010356595</td>\n",
              "      <td>1</td>\n",
              "      <td>5</td>\n",
              "      <td>2</td>\n",
              "      <td>2</td>\n",
              "      <td>15</td>\n",
              "      <td>3</td>\n",
              "      <td>3</td>\n",
              "      <td>0</td>\n",
              "      <td>0</td>\n",
              "      <td>0</td>\n",
              "      <td>4</td>\n",
              "      <td>0</td>\n",
              "      <td>11</td>\n",
              "      <td>-1</td>\n",
              "      <td>-1</td>\n",
              "      <td>-1</td>\n",
              "    </tr>\n",
              "    <tr>\n",
              "      <th>20187</th>\n",
              "      <td>2022010356595</td>\n",
              "      <td>010356595</td>\n",
              "      <td>1</td>\n",
              "      <td>6</td>\n",
              "      <td>2</td>\n",
              "      <td>2</td>\n",
              "      <td>15</td>\n",
              "      <td>3</td>\n",
              "      <td>3</td>\n",
              "      <td>0</td>\n",
              "      <td>0</td>\n",
              "      <td>0</td>\n",
              "      <td>4</td>\n",
              "      <td>0</td>\n",
              "      <td>11</td>\n",
              "      <td>-1</td>\n",
              "      <td>-1</td>\n",
              "      <td>-1</td>\n",
              "    </tr>\n",
              "    <tr>\n",
              "      <th>20188</th>\n",
              "      <td>2022010356595</td>\n",
              "      <td>010356595</td>\n",
              "      <td>1</td>\n",
              "      <td>7</td>\n",
              "      <td>2</td>\n",
              "      <td>2</td>\n",
              "      <td>8</td>\n",
              "      <td>2</td>\n",
              "      <td>3</td>\n",
              "      <td>0</td>\n",
              "      <td>0</td>\n",
              "      <td>0</td>\n",
              "      <td>4</td>\n",
              "      <td>0</td>\n",
              "      <td>11</td>\n",
              "      <td>-1</td>\n",
              "      <td>-1</td>\n",
              "      <td>-1</td>\n",
              "    </tr>\n",
              "    <tr>\n",
              "      <th>20189</th>\n",
              "      <td>2022010356595</td>\n",
              "      <td>010356595</td>\n",
              "      <td>1</td>\n",
              "      <td>8</td>\n",
              "      <td>2</td>\n",
              "      <td>2</td>\n",
              "      <td>11</td>\n",
              "      <td>3</td>\n",
              "      <td>3</td>\n",
              "      <td>0</td>\n",
              "      <td>0</td>\n",
              "      <td>0</td>\n",
              "      <td>4</td>\n",
              "      <td>0</td>\n",
              "      <td>11</td>\n",
              "      <td>-1</td>\n",
              "      <td>-1</td>\n",
              "      <td>-1</td>\n",
              "    </tr>\n",
              "    <tr>\n",
              "      <th>20190</th>\n",
              "      <td>2022010356595</td>\n",
              "      <td>010356595</td>\n",
              "      <td>1</td>\n",
              "      <td>9</td>\n",
              "      <td>2</td>\n",
              "      <td>1</td>\n",
              "      <td>8</td>\n",
              "      <td>2</td>\n",
              "      <td>3</td>\n",
              "      <td>0</td>\n",
              "      <td>0</td>\n",
              "      <td>0</td>\n",
              "      <td>4</td>\n",
              "      <td>0</td>\n",
              "      <td>11</td>\n",
              "      <td>-1</td>\n",
              "      <td>-1</td>\n",
              "      <td>-1</td>\n",
              "    </tr>\n",
              "    <tr>\n",
              "      <th>20191</th>\n",
              "      <td>2022010356595</td>\n",
              "      <td>010356595</td>\n",
              "      <td>1</td>\n",
              "      <td>10</td>\n",
              "      <td>2</td>\n",
              "      <td>2</td>\n",
              "      <td>37</td>\n",
              "      <td>7</td>\n",
              "      <td>3</td>\n",
              "      <td>0</td>\n",
              "      <td>0</td>\n",
              "      <td>0</td>\n",
              "      <td>4</td>\n",
              "      <td>0</td>\n",
              "      <td>11</td>\n",
              "      <td>-1</td>\n",
              "      <td>-1</td>\n",
              "      <td>-1</td>\n",
              "    </tr>\n",
              "    <tr>\n",
              "      <th>20192</th>\n",
              "      <td>2022010356595</td>\n",
              "      <td>010356595</td>\n",
              "      <td>1</td>\n",
              "      <td>11</td>\n",
              "      <td>2</td>\n",
              "      <td>1</td>\n",
              "      <td>17</td>\n",
              "      <td>4</td>\n",
              "      <td>3</td>\n",
              "      <td>0</td>\n",
              "      <td>0</td>\n",
              "      <td>0</td>\n",
              "      <td>4</td>\n",
              "      <td>0</td>\n",
              "      <td>11</td>\n",
              "      <td>-1</td>\n",
              "      <td>-1</td>\n",
              "      <td>-1</td>\n",
              "    </tr>\n",
              "    <tr>\n",
              "      <th>20193</th>\n",
              "      <td>2022010356595</td>\n",
              "      <td>010356595</td>\n",
              "      <td>1</td>\n",
              "      <td>12</td>\n",
              "      <td>2</td>\n",
              "      <td>1</td>\n",
              "      <td>28</td>\n",
              "      <td>6</td>\n",
              "      <td>3</td>\n",
              "      <td>0</td>\n",
              "      <td>0</td>\n",
              "      <td>0</td>\n",
              "      <td>4</td>\n",
              "      <td>0</td>\n",
              "      <td>11</td>\n",
              "      <td>-1</td>\n",
              "      <td>-1</td>\n",
              "      <td>-1</td>\n",
              "    </tr>\n",
              "    <tr>\n",
              "      <th>20194</th>\n",
              "      <td>2022010356595</td>\n",
              "      <td>010356595</td>\n",
              "      <td>1</td>\n",
              "      <td>13</td>\n",
              "      <td>2</td>\n",
              "      <td>2</td>\n",
              "      <td>7</td>\n",
              "      <td>2</td>\n",
              "      <td>3</td>\n",
              "      <td>0</td>\n",
              "      <td>0</td>\n",
              "      <td>0</td>\n",
              "      <td>4</td>\n",
              "      <td>0</td>\n",
              "      <td>11</td>\n",
              "      <td>-1</td>\n",
              "      <td>-1</td>\n",
              "      <td>-1</td>\n",
              "    </tr>\n",
              "    <tr>\n",
              "      <th>20195</th>\n",
              "      <td>2022010356595</td>\n",
              "      <td>010356595</td>\n",
              "      <td>1</td>\n",
              "      <td>14</td>\n",
              "      <td>2</td>\n",
              "      <td>2</td>\n",
              "      <td>37</td>\n",
              "      <td>7</td>\n",
              "      <td>3</td>\n",
              "      <td>0</td>\n",
              "      <td>0</td>\n",
              "      <td>0</td>\n",
              "      <td>4</td>\n",
              "      <td>0</td>\n",
              "      <td>11</td>\n",
              "      <td>-1</td>\n",
              "      <td>-1</td>\n",
              "      <td>-1</td>\n",
              "    </tr>\n",
              "    <tr>\n",
              "      <th>20196</th>\n",
              "      <td>2022010356595</td>\n",
              "      <td>010356595</td>\n",
              "      <td>1</td>\n",
              "      <td>15</td>\n",
              "      <td>2</td>\n",
              "      <td>2</td>\n",
              "      <td>31</td>\n",
              "      <td>6</td>\n",
              "      <td>3</td>\n",
              "      <td>0</td>\n",
              "      <td>0</td>\n",
              "      <td>0</td>\n",
              "      <td>4</td>\n",
              "      <td>0</td>\n",
              "      <td>11</td>\n",
              "      <td>1</td>\n",
              "      <td>2</td>\n",
              "      <td>E01004365</td>\n",
              "    </tr>\n",
              "    <tr>\n",
              "      <th>20197</th>\n",
              "      <td>2022010356595</td>\n",
              "      <td>010356595</td>\n",
              "      <td>1</td>\n",
              "      <td>16</td>\n",
              "      <td>2</td>\n",
              "      <td>2</td>\n",
              "      <td>7</td>\n",
              "      <td>2</td>\n",
              "      <td>3</td>\n",
              "      <td>0</td>\n",
              "      <td>0</td>\n",
              "      <td>0</td>\n",
              "      <td>4</td>\n",
              "      <td>0</td>\n",
              "      <td>11</td>\n",
              "      <td>1</td>\n",
              "      <td>2</td>\n",
              "      <td>E01001506</td>\n",
              "    </tr>\n",
              "  </tbody>\n",
              "</table>\n",
              "</div>\n",
              "    <div class=\"colab-df-buttons\">\n",
              "\n",
              "  <div class=\"colab-df-container\">\n",
              "    <button class=\"colab-df-convert\" onclick=\"convertToInteractive('df-02d63f35-260a-46ac-a512-9f8d8a2dbc67')\"\n",
              "            title=\"Convert this dataframe to an interactive table.\"\n",
              "            style=\"display:none;\">\n",
              "\n",
              "  <svg xmlns=\"http://www.w3.org/2000/svg\" height=\"24px\" viewBox=\"0 -960 960 960\">\n",
              "    <path d=\"M120-120v-720h720v720H120Zm60-500h600v-160H180v160Zm220 220h160v-160H400v160Zm0 220h160v-160H400v160ZM180-400h160v-160H180v160Zm440 0h160v-160H620v160ZM180-180h160v-160H180v160Zm440 0h160v-160H620v160Z\"/>\n",
              "  </svg>\n",
              "    </button>\n",
              "\n",
              "  <style>\n",
              "    .colab-df-container {\n",
              "      display:flex;\n",
              "      gap: 12px;\n",
              "    }\n",
              "\n",
              "    .colab-df-convert {\n",
              "      background-color: #E8F0FE;\n",
              "      border: none;\n",
              "      border-radius: 50%;\n",
              "      cursor: pointer;\n",
              "      display: none;\n",
              "      fill: #1967D2;\n",
              "      height: 32px;\n",
              "      padding: 0 0 0 0;\n",
              "      width: 32px;\n",
              "    }\n",
              "\n",
              "    .colab-df-convert:hover {\n",
              "      background-color: #E2EBFA;\n",
              "      box-shadow: 0px 1px 2px rgba(60, 64, 67, 0.3), 0px 1px 3px 1px rgba(60, 64, 67, 0.15);\n",
              "      fill: #174EA6;\n",
              "    }\n",
              "\n",
              "    .colab-df-buttons div {\n",
              "      margin-bottom: 4px;\n",
              "    }\n",
              "\n",
              "    [theme=dark] .colab-df-convert {\n",
              "      background-color: #3B4455;\n",
              "      fill: #D2E3FC;\n",
              "    }\n",
              "\n",
              "    [theme=dark] .colab-df-convert:hover {\n",
              "      background-color: #434B5C;\n",
              "      box-shadow: 0px 1px 3px 1px rgba(0, 0, 0, 0.15);\n",
              "      filter: drop-shadow(0px 1px 2px rgba(0, 0, 0, 0.3));\n",
              "      fill: #FFFFFF;\n",
              "    }\n",
              "  </style>\n",
              "\n",
              "    <script>\n",
              "      const buttonEl =\n",
              "        document.querySelector('#df-02d63f35-260a-46ac-a512-9f8d8a2dbc67 button.colab-df-convert');\n",
              "      buttonEl.style.display =\n",
              "        google.colab.kernel.accessAllowed ? 'block' : 'none';\n",
              "\n",
              "      async function convertToInteractive(key) {\n",
              "        const element = document.querySelector('#df-02d63f35-260a-46ac-a512-9f8d8a2dbc67');\n",
              "        const dataTable =\n",
              "          await google.colab.kernel.invokeFunction('convertToInteractive',\n",
              "                                                    [key], {});\n",
              "        if (!dataTable) return;\n",
              "\n",
              "        const docLinkHtml = 'Like what you see? Visit the ' +\n",
              "          '<a target=\"_blank\" href=https://colab.research.google.com/notebooks/data_table.ipynb>data table notebook</a>'\n",
              "          + ' to learn more about interactive tables.';\n",
              "        element.innerHTML = '';\n",
              "        dataTable['output_type'] = 'display_data';\n",
              "        await google.colab.output.renderOutput(dataTable, element);\n",
              "        const docLink = document.createElement('div');\n",
              "        docLink.innerHTML = docLinkHtml;\n",
              "        element.appendChild(docLink);\n",
              "      }\n",
              "    </script>\n",
              "  </div>\n",
              "\n",
              "\n",
              "<div id=\"df-1e56c211-fa58-4f6a-871f-45f4903bc97d\">\n",
              "  <button class=\"colab-df-quickchart\" onclick=\"quickchart('df-1e56c211-fa58-4f6a-871f-45f4903bc97d')\"\n",
              "            title=\"Suggest charts\"\n",
              "            style=\"display:none;\">\n",
              "\n",
              "<svg xmlns=\"http://www.w3.org/2000/svg\" height=\"24px\"viewBox=\"0 0 24 24\"\n",
              "     width=\"24px\">\n",
              "    <g>\n",
              "        <path d=\"M19 3H5c-1.1 0-2 .9-2 2v14c0 1.1.9 2 2 2h14c1.1 0 2-.9 2-2V5c0-1.1-.9-2-2-2zM9 17H7v-7h2v7zm4 0h-2V7h2v10zm4 0h-2v-4h2v4z\"/>\n",
              "    </g>\n",
              "</svg>\n",
              "  </button>\n",
              "\n",
              "<style>\n",
              "  .colab-df-quickchart {\n",
              "      --bg-color: #E8F0FE;\n",
              "      --fill-color: #1967D2;\n",
              "      --hover-bg-color: #E2EBFA;\n",
              "      --hover-fill-color: #174EA6;\n",
              "      --disabled-fill-color: #AAA;\n",
              "      --disabled-bg-color: #DDD;\n",
              "  }\n",
              "\n",
              "  [theme=dark] .colab-df-quickchart {\n",
              "      --bg-color: #3B4455;\n",
              "      --fill-color: #D2E3FC;\n",
              "      --hover-bg-color: #434B5C;\n",
              "      --hover-fill-color: #FFFFFF;\n",
              "      --disabled-bg-color: #3B4455;\n",
              "      --disabled-fill-color: #666;\n",
              "  }\n",
              "\n",
              "  .colab-df-quickchart {\n",
              "    background-color: var(--bg-color);\n",
              "    border: none;\n",
              "    border-radius: 50%;\n",
              "    cursor: pointer;\n",
              "    display: none;\n",
              "    fill: var(--fill-color);\n",
              "    height: 32px;\n",
              "    padding: 0;\n",
              "    width: 32px;\n",
              "  }\n",
              "\n",
              "  .colab-df-quickchart:hover {\n",
              "    background-color: var(--hover-bg-color);\n",
              "    box-shadow: 0 1px 2px rgba(60, 64, 67, 0.3), 0 1px 3px 1px rgba(60, 64, 67, 0.15);\n",
              "    fill: var(--button-hover-fill-color);\n",
              "  }\n",
              "\n",
              "  .colab-df-quickchart-complete:disabled,\n",
              "  .colab-df-quickchart-complete:disabled:hover {\n",
              "    background-color: var(--disabled-bg-color);\n",
              "    fill: var(--disabled-fill-color);\n",
              "    box-shadow: none;\n",
              "  }\n",
              "\n",
              "  .colab-df-spinner {\n",
              "    border: 2px solid var(--fill-color);\n",
              "    border-color: transparent;\n",
              "    border-bottom-color: var(--fill-color);\n",
              "    animation:\n",
              "      spin 1s steps(1) infinite;\n",
              "  }\n",
              "\n",
              "  @keyframes spin {\n",
              "    0% {\n",
              "      border-color: transparent;\n",
              "      border-bottom-color: var(--fill-color);\n",
              "      border-left-color: var(--fill-color);\n",
              "    }\n",
              "    20% {\n",
              "      border-color: transparent;\n",
              "      border-left-color: var(--fill-color);\n",
              "      border-top-color: var(--fill-color);\n",
              "    }\n",
              "    30% {\n",
              "      border-color: transparent;\n",
              "      border-left-color: var(--fill-color);\n",
              "      border-top-color: var(--fill-color);\n",
              "      border-right-color: var(--fill-color);\n",
              "    }\n",
              "    40% {\n",
              "      border-color: transparent;\n",
              "      border-right-color: var(--fill-color);\n",
              "      border-top-color: var(--fill-color);\n",
              "    }\n",
              "    60% {\n",
              "      border-color: transparent;\n",
              "      border-right-color: var(--fill-color);\n",
              "    }\n",
              "    80% {\n",
              "      border-color: transparent;\n",
              "      border-right-color: var(--fill-color);\n",
              "      border-bottom-color: var(--fill-color);\n",
              "    }\n",
              "    90% {\n",
              "      border-color: transparent;\n",
              "      border-bottom-color: var(--fill-color);\n",
              "    }\n",
              "  }\n",
              "</style>\n",
              "\n",
              "  <script>\n",
              "    async function quickchart(key) {\n",
              "      const quickchartButtonEl =\n",
              "        document.querySelector('#' + key + ' button');\n",
              "      quickchartButtonEl.disabled = true;  // To prevent multiple clicks.\n",
              "      quickchartButtonEl.classList.add('colab-df-spinner');\n",
              "      try {\n",
              "        const charts = await google.colab.kernel.invokeFunction(\n",
              "            'suggestCharts', [key], {});\n",
              "      } catch (error) {\n",
              "        console.error('Error during call to suggestCharts:', error);\n",
              "      }\n",
              "      quickchartButtonEl.classList.remove('colab-df-spinner');\n",
              "      quickchartButtonEl.classList.add('colab-df-quickchart-complete');\n",
              "    }\n",
              "    (() => {\n",
              "      let quickchartButtonEl =\n",
              "        document.querySelector('#df-1e56c211-fa58-4f6a-871f-45f4903bc97d button');\n",
              "      quickchartButtonEl.style.display =\n",
              "        google.colab.kernel.accessAllowed ? 'block' : 'none';\n",
              "    })();\n",
              "  </script>\n",
              "</div>\n",
              "    </div>\n",
              "  </div>\n"
            ],
            "application/vnd.google.colaboratory.intrinsic+json": {
              "type": "dataframe",
              "variable_name": "result_rows",
              "summary": "{\n  \"name\": \"result_rows\",\n  \"rows\": 16,\n  \"fields\": [\n    {\n      \"column\": \"accident_index\",\n      \"properties\": {\n        \"dtype\": \"category\",\n        \"num_unique_values\": 1,\n        \"samples\": [\n          \"2022010356595\"\n        ],\n        \"semantic_type\": \"\",\n        \"description\": \"\"\n      }\n    },\n    {\n      \"column\": \"accident_reference\",\n      \"properties\": {\n        \"dtype\": \"category\",\n        \"num_unique_values\": 1,\n        \"samples\": [\n          \"010356595\"\n        ],\n        \"semantic_type\": \"\",\n        \"description\": \"\"\n      }\n    },\n    {\n      \"column\": \"vehicle_reference\",\n      \"properties\": {\n        \"dtype\": \"number\",\n        \"std\": 0,\n        \"min\": 1,\n        \"max\": 1,\n        \"num_unique_values\": 1,\n        \"samples\": [\n          1\n        ],\n        \"semantic_type\": \"\",\n        \"description\": \"\"\n      }\n    },\n    {\n      \"column\": \"casualty_reference\",\n      \"properties\": {\n        \"dtype\": \"number\",\n        \"std\": 4,\n        \"min\": 1,\n        \"max\": 16,\n        \"num_unique_values\": 16,\n        \"samples\": [\n          1\n        ],\n        \"semantic_type\": \"\",\n        \"description\": \"\"\n      }\n    },\n    {\n      \"column\": \"casualty_class\",\n      \"properties\": {\n        \"dtype\": \"number\",\n        \"std\": 0,\n        \"min\": 1,\n        \"max\": 2,\n        \"num_unique_values\": 2,\n        \"samples\": [\n          2\n        ],\n        \"semantic_type\": \"\",\n        \"description\": \"\"\n      }\n    },\n    {\n      \"column\": \"sex_of_casualty\",\n      \"properties\": {\n        \"dtype\": \"number\",\n        \"std\": 0,\n        \"min\": 1,\n        \"max\": 2,\n        \"num_unique_values\": 2,\n        \"samples\": [\n          2\n        ],\n        \"semantic_type\": \"\",\n        \"description\": \"\"\n      }\n    },\n    {\n      \"column\": \"age_of_casualty\",\n      \"properties\": {\n        \"dtype\": \"number\",\n        \"std\": 16,\n        \"min\": 7,\n        \"max\": 66,\n        \"num_unique_values\": 12,\n        \"samples\": [\n          7\n        ],\n        \"semantic_type\": \"\",\n        \"description\": \"\"\n      }\n    },\n    {\n      \"column\": \"age_band_of_casualty\",\n      \"properties\": {\n        \"dtype\": \"number\",\n        \"std\": 2,\n        \"min\": 2,\n        \"max\": 10,\n        \"num_unique_values\": 6,\n        \"samples\": [\n          10\n        ],\n        \"semantic_type\": \"\",\n        \"description\": \"\"\n      }\n    },\n    {\n      \"column\": \"casualty_severity\",\n      \"properties\": {\n        \"dtype\": \"number\",\n        \"std\": 0,\n        \"min\": 2,\n        \"max\": 3,\n        \"num_unique_values\": 2,\n        \"samples\": [\n          2\n        ],\n        \"semantic_type\": \"\",\n        \"description\": \"\"\n      }\n    },\n    {\n      \"column\": \"pedestrian_location\",\n      \"properties\": {\n        \"dtype\": \"number\",\n        \"std\": 0,\n        \"min\": 0,\n        \"max\": 0,\n        \"num_unique_values\": 1,\n        \"samples\": [\n          0\n        ],\n        \"semantic_type\": \"\",\n        \"description\": \"\"\n      }\n    },\n    {\n      \"column\": \"pedestrian_movement\",\n      \"properties\": {\n        \"dtype\": \"number\",\n        \"std\": 0,\n        \"min\": 0,\n        \"max\": 0,\n        \"num_unique_values\": 1,\n        \"samples\": [\n          0\n        ],\n        \"semantic_type\": \"\",\n        \"description\": \"\"\n      }\n    },\n    {\n      \"column\": \"car_passenger\",\n      \"properties\": {\n        \"dtype\": \"number\",\n        \"std\": 0,\n        \"min\": 0,\n        \"max\": 0,\n        \"num_unique_values\": 1,\n        \"samples\": [\n          0\n        ],\n        \"semantic_type\": \"\",\n        \"description\": \"\"\n      }\n    },\n    {\n      \"column\": \"bus_or_coach_passenger\",\n      \"properties\": {\n        \"dtype\": \"number\",\n        \"std\": 1,\n        \"min\": 0,\n        \"max\": 4,\n        \"num_unique_values\": 2,\n        \"samples\": [\n          4\n        ],\n        \"semantic_type\": \"\",\n        \"description\": \"\"\n      }\n    },\n    {\n      \"column\": \"pedestrian_road_maintenance_worker\",\n      \"properties\": {\n        \"dtype\": \"number\",\n        \"std\": 0,\n        \"min\": 0,\n        \"max\": 0,\n        \"num_unique_values\": 1,\n        \"samples\": [\n          0\n        ],\n        \"semantic_type\": \"\",\n        \"description\": \"\"\n      }\n    },\n    {\n      \"column\": \"casualty_type\",\n      \"properties\": {\n        \"dtype\": \"number\",\n        \"std\": 0,\n        \"min\": 11,\n        \"max\": 11,\n        \"num_unique_values\": 1,\n        \"samples\": [\n          11\n        ],\n        \"semantic_type\": \"\",\n        \"description\": \"\"\n      }\n    },\n    {\n      \"column\": \"casualty_home_area_type\",\n      \"properties\": {\n        \"dtype\": \"number\",\n        \"std\": 0,\n        \"min\": -1,\n        \"max\": 1,\n        \"num_unique_values\": 2,\n        \"samples\": [\n          -1\n        ],\n        \"semantic_type\": \"\",\n        \"description\": \"\"\n      }\n    },\n    {\n      \"column\": \"casualty_imd_decile\",\n      \"properties\": {\n        \"dtype\": \"number\",\n        \"std\": 2,\n        \"min\": -1,\n        \"max\": 6,\n        \"num_unique_values\": 4,\n        \"samples\": [\n          2\n        ],\n        \"semantic_type\": \"\",\n        \"description\": \"\"\n      }\n    },\n    {\n      \"column\": \"lsoa_of_casualty\",\n      \"properties\": {\n        \"dtype\": \"category\",\n        \"num_unique_values\": 5,\n        \"samples\": [\n          \"E01001506\"\n        ],\n        \"semantic_type\": \"\",\n        \"description\": \"\"\n      }\n    }\n  ]\n}"
            }
          },
          "metadata": {},
          "execution_count": 26
        }
      ]
    },
    {
      "cell_type": "code",
      "source": [
        "unique_accident_index_rows = df[df['accident_index'].map(df['accident_index'].value_counts()) == 1]"
      ],
      "metadata": {
        "id": "hOcSzJQMd7aa"
      },
      "execution_count": null,
      "outputs": []
    },
    {
      "cell_type": "code",
      "source": [
        "unique_accident_index_rows.info()"
      ],
      "metadata": {
        "id": "mlcDvrofeGjy",
        "colab": {
          "base_uri": "https://localhost:8080/"
        },
        "outputId": "22ca27c3-ec73-4fe1-8706-ceaa057451e7"
      },
      "execution_count": null,
      "outputs": [
        {
          "output_type": "stream",
          "name": "stdout",
          "text": [
            "<class 'pandas.core.frame.DataFrame'>\n",
            "Int64Index: 39264 entries, 0 to 61350\n",
            "Data columns (total 18 columns):\n",
            " #   Column                              Non-Null Count  Dtype \n",
            "---  ------                              --------------  ----- \n",
            " 0   accident_index                      39264 non-null  object\n",
            " 1   accident_reference                  39264 non-null  object\n",
            " 2   vehicle_reference                   39264 non-null  int64 \n",
            " 3   casualty_reference                  39264 non-null  int64 \n",
            " 4   casualty_class                      39264 non-null  int64 \n",
            " 5   sex_of_casualty                     39264 non-null  int64 \n",
            " 6   age_of_casualty                     39264 non-null  int64 \n",
            " 7   age_band_of_casualty                39264 non-null  int64 \n",
            " 8   casualty_severity                   39264 non-null  int64 \n",
            " 9   pedestrian_location                 39264 non-null  int64 \n",
            " 10  pedestrian_movement                 39264 non-null  int64 \n",
            " 11  car_passenger                       39264 non-null  int64 \n",
            " 12  bus_or_coach_passenger              39264 non-null  int64 \n",
            " 13  pedestrian_road_maintenance_worker  39264 non-null  int64 \n",
            " 14  casualty_type                       39264 non-null  int64 \n",
            " 15  casualty_home_area_type             39264 non-null  int64 \n",
            " 16  casualty_imd_decile                 39264 non-null  int64 \n",
            " 17  lsoa_of_casualty                    39264 non-null  object\n",
            "dtypes: int64(15), object(3)\n",
            "memory usage: 5.7+ MB\n"
          ]
        }
      ]
    },
    {
      "cell_type": "code",
      "source": [
        "# Based on my analyze 'accident_index'column  is ID, So I will maintain it without any change"
      ],
      "metadata": {
        "id": "I8HjeIXue8FT"
      },
      "execution_count": null,
      "outputs": []
    },
    {
      "cell_type": "code",
      "source": [
        "# Check 'accident_reference'"
      ],
      "metadata": {
        "id": "7tRgt1P6h4Vx"
      },
      "execution_count": null,
      "outputs": []
    },
    {
      "cell_type": "code",
      "source": [
        "data['accident_reference'].value_counts()"
      ],
      "metadata": {
        "id": "tVt1HB_EiGTS",
        "colab": {
          "base_uri": "https://localhost:8080/"
        },
        "outputId": "f2d403e6-8a15-4fb6-fea6-596d65dc0817"
      },
      "execution_count": null,
      "outputs": [
        {
          "output_type": "execute_result",
          "data": {
            "text/plain": [
              "010356595    16\n",
              "010377133    16\n",
              "411164580    14\n",
              "211187319    13\n",
              "471142394    13\n",
              "             ..\n",
              "101150789     1\n",
              "101151215     1\n",
              "101151304     1\n",
              "101151620     1\n",
              "461157316     1\n",
              "Name: accident_reference, Length: 48283, dtype: int64"
            ]
          },
          "metadata": {},
          "execution_count": 31
        }
      ]
    },
    {
      "cell_type": "code",
      "source": [
        "# In the dimentionality reduction(Feature Engineering) I will delete this column\n",
        "# Because it wont give me a new and usefull information. It has corelation with 'Accident_index'"
      ],
      "metadata": {
        "id": "nfV8H6D8jCVl"
      },
      "execution_count": null,
      "outputs": []
    },
    {
      "cell_type": "code",
      "source": [
        "# Check the Vehicle_reference"
      ],
      "metadata": {
        "id": "12S4CLJOj1lS"
      },
      "execution_count": null,
      "outputs": []
    },
    {
      "cell_type": "code",
      "source": [
        "data['vehicle_reference'].value_counts()"
      ],
      "metadata": {
        "colab": {
          "base_uri": "https://localhost:8080/"
        },
        "id": "_wYcA40Bmmbn",
        "outputId": "1e498b5f-d4f8-4dbd-86a0-16514d22ec0c"
      },
      "execution_count": null,
      "outputs": [
        {
          "output_type": "execute_result",
          "data": {
            "text/plain": [
              "1      36255\n",
              "2      23337\n",
              "3       1427\n",
              "4        227\n",
              "5         71\n",
              "6         19\n",
              "7          7\n",
              "8          4\n",
              "9          3\n",
              "227        1\n",
              "61         1\n",
              "Name: vehicle_reference, dtype: int64"
            ]
          },
          "metadata": {},
          "execution_count": 34
        }
      ]
    },
    {
      "cell_type": "code",
      "source": [
        "outlier_values = [61, 8, 9, 227]\n",
        "# Create a boolean mask to identify rows with outlier values in 'vehicle_reference'\n",
        "outlier_rows = data['vehicle_reference'].isin(outlier_values)\n",
        "# Delete rows with outlier values\n",
        "data = data[~outlier_rows]\n",
        "data.info()\n"
      ],
      "metadata": {
        "id": "BRSJZ3q8otJE",
        "colab": {
          "base_uri": "https://localhost:8080/"
        },
        "outputId": "42021d30-7b42-473c-83a7-ac269cd830ae"
      },
      "execution_count": null,
      "outputs": [
        {
          "output_type": "stream",
          "name": "stdout",
          "text": [
            "<class 'pandas.core.frame.DataFrame'>\n",
            "Int64Index: 61343 entries, 0 to 61351\n",
            "Data columns (total 18 columns):\n",
            " #   Column                              Non-Null Count  Dtype \n",
            "---  ------                              --------------  ----- \n",
            " 0   accident_index                      61343 non-null  object\n",
            " 1   accident_reference                  61343 non-null  object\n",
            " 2   vehicle_reference                   61343 non-null  int64 \n",
            " 3   casualty_reference                  61343 non-null  int64 \n",
            " 4   casualty_class                      61343 non-null  int64 \n",
            " 5   sex_of_casualty                     61343 non-null  int64 \n",
            " 6   age_of_casualty                     61343 non-null  int64 \n",
            " 7   age_band_of_casualty                61343 non-null  int64 \n",
            " 8   casualty_severity                   61343 non-null  int64 \n",
            " 9   pedestrian_location                 61343 non-null  int64 \n",
            " 10  pedestrian_movement                 61343 non-null  int64 \n",
            " 11  car_passenger                       61343 non-null  int64 \n",
            " 12  bus_or_coach_passenger              61343 non-null  int64 \n",
            " 13  pedestrian_road_maintenance_worker  61343 non-null  int64 \n",
            " 14  casualty_type                       61343 non-null  int64 \n",
            " 15  casualty_home_area_type             61343 non-null  int64 \n",
            " 16  casualty_imd_decile                 61343 non-null  int64 \n",
            " 17  lsoa_of_casualty                    61343 non-null  object\n",
            "dtypes: int64(15), object(3)\n",
            "memory usage: 8.9+ MB\n"
          ]
        }
      ]
    },
    {
      "cell_type": "code",
      "source": [
        "#In the Vehicle_reference outlier_values = [61, 8, 9, 227] deleted"
      ],
      "metadata": {
        "id": "7YM6EUexqnbh"
      },
      "execution_count": null,
      "outputs": []
    },
    {
      "cell_type": "code",
      "source": [
        "# Check the Casualty_Reference"
      ],
      "metadata": {
        "id": "Dorl97GQq_ZV"
      },
      "execution_count": null,
      "outputs": []
    },
    {
      "cell_type": "code",
      "source": [
        "data['casualty_reference'].value_counts()"
      ],
      "metadata": {
        "colab": {
          "base_uri": "https://localhost:8080/"
        },
        "id": "vMG_gQxzrbAx",
        "outputId": "9152eda1-750f-4587-c458-ee09a646efc8"
      },
      "execution_count": null,
      "outputs": [
        {
          "output_type": "execute_result",
          "data": {
            "text/plain": [
              "1      47788\n",
              "2       9304\n",
              "3       2794\n",
              "4        934\n",
              "5        324\n",
              "6         98\n",
              "7         37\n",
              "8         15\n",
              "9         11\n",
              "10        10\n",
              "11         7\n",
              "12         6\n",
              "14         4\n",
              "13         4\n",
              "15         3\n",
              "16         2\n",
              "22         1\n",
              "148        1\n",
              "Name: casualty_reference, dtype: int64"
            ]
          },
          "metadata": {},
          "execution_count": 38
        }
      ]
    },
    {
      "cell_type": "code",
      "source": [
        "outlier_values = [148, 22, 16, 15,13,14,12,11]\n",
        "# Create a boolean mask to identify rows with outlier values in 'vehicle_reference'\n",
        "outlier_rows = data['casualty_reference'].isin(outlier_values)\n",
        "# Delete rows with outlier values\n",
        "data = data[~outlier_rows]\n",
        "data.info()"
      ],
      "metadata": {
        "colab": {
          "base_uri": "https://localhost:8080/"
        },
        "id": "bwcADYqSr5c3",
        "outputId": "f263f9e7-90f7-44f9-a60a-fc5ae8cbe417"
      },
      "execution_count": null,
      "outputs": [
        {
          "output_type": "stream",
          "name": "stdout",
          "text": [
            "<class 'pandas.core.frame.DataFrame'>\n",
            "Int64Index: 61315 entries, 0 to 61351\n",
            "Data columns (total 18 columns):\n",
            " #   Column                              Non-Null Count  Dtype \n",
            "---  ------                              --------------  ----- \n",
            " 0   accident_index                      61315 non-null  object\n",
            " 1   accident_reference                  61315 non-null  object\n",
            " 2   vehicle_reference                   61315 non-null  int64 \n",
            " 3   casualty_reference                  61315 non-null  int64 \n",
            " 4   casualty_class                      61315 non-null  int64 \n",
            " 5   sex_of_casualty                     61315 non-null  int64 \n",
            " 6   age_of_casualty                     61315 non-null  int64 \n",
            " 7   age_band_of_casualty                61315 non-null  int64 \n",
            " 8   casualty_severity                   61315 non-null  int64 \n",
            " 9   pedestrian_location                 61315 non-null  int64 \n",
            " 10  pedestrian_movement                 61315 non-null  int64 \n",
            " 11  car_passenger                       61315 non-null  int64 \n",
            " 12  bus_or_coach_passenger              61315 non-null  int64 \n",
            " 13  pedestrian_road_maintenance_worker  61315 non-null  int64 \n",
            " 14  casualty_type                       61315 non-null  int64 \n",
            " 15  casualty_home_area_type             61315 non-null  int64 \n",
            " 16  casualty_imd_decile                 61315 non-null  int64 \n",
            " 17  lsoa_of_casualty                    61315 non-null  object\n",
            "dtypes: int64(15), object(3)\n",
            "memory usage: 8.9+ MB\n"
          ]
        }
      ]
    },
    {
      "cell_type": "code",
      "source": [
        "#In the Vehicle_reference outlier_values = [148, 22, 16, 15,13,14,12,11] deleted"
      ],
      "metadata": {
        "id": "7jLaLrQAs7gt"
      },
      "execution_count": null,
      "outputs": []
    },
    {
      "cell_type": "code",
      "source": [
        "# Check the Casualty_Class"
      ],
      "metadata": {
        "id": "F3fLYfjFua6N"
      },
      "execution_count": null,
      "outputs": []
    },
    {
      "cell_type": "code",
      "source": [
        "data['casualty_class'].value_counts()"
      ],
      "metadata": {
        "colab": {
          "base_uri": "https://localhost:8080/"
        },
        "id": "002fgVozuuzo",
        "outputId": "159956f3-2b70-47ee-9665-a73c2823a390"
      },
      "execution_count": null,
      "outputs": [
        {
          "output_type": "execute_result",
          "data": {
            "text/plain": [
              "1    40696\n",
              "2    11681\n",
              "3     8938\n",
              "Name: casualty_class, dtype: int64"
            ]
          },
          "metadata": {},
          "execution_count": 42
        }
      ]
    },
    {
      "cell_type": "code",
      "source": [
        "#In the casualty_class we didnot have outlier_values"
      ],
      "metadata": {
        "id": "K4FvB_7SvDPO"
      },
      "execution_count": null,
      "outputs": []
    },
    {
      "cell_type": "code",
      "source": [
        "# Check the Sex_of_Casualty"
      ],
      "metadata": {
        "id": "z5hqvTKSxkFH"
      },
      "execution_count": null,
      "outputs": []
    },
    {
      "cell_type": "code",
      "source": [
        "data['sex_of_casualty'].value_counts()"
      ],
      "metadata": {
        "colab": {
          "base_uri": "https://localhost:8080/"
        },
        "id": "VE7oDLY-xn7W",
        "outputId": "b66f4474-f4e7-478f-e9c0-743ec135cbec"
      },
      "execution_count": null,
      "outputs": [
        {
          "output_type": "execute_result",
          "data": {
            "text/plain": [
              " 1    37433\n",
              " 2    23424\n",
              "-1      448\n",
              " 9       10\n",
              "Name: sex_of_casualty, dtype: int64"
            ]
          },
          "metadata": {},
          "execution_count": 45
        }
      ]
    },
    {
      "cell_type": "code",
      "source": [
        "outlier_values = [-1,9]\n",
        "# Create a boolean mask to identify rows with outlier values in 'vehicle_reference'\n",
        "outlier_rows = data['sex_of_casualty'].isin(outlier_values)\n",
        "# Delete rows with outlier values\n",
        "data = data[~outlier_rows]\n",
        "data.info()"
      ],
      "metadata": {
        "colab": {
          "base_uri": "https://localhost:8080/"
        },
        "id": "zZrbVx4rxvOb",
        "outputId": "7cf45b13-eb97-4317-c8e0-c30a02b222b1"
      },
      "execution_count": null,
      "outputs": [
        {
          "output_type": "stream",
          "name": "stdout",
          "text": [
            "<class 'pandas.core.frame.DataFrame'>\n",
            "Int64Index: 60857 entries, 0 to 61351\n",
            "Data columns (total 18 columns):\n",
            " #   Column                              Non-Null Count  Dtype \n",
            "---  ------                              --------------  ----- \n",
            " 0   accident_index                      60857 non-null  object\n",
            " 1   accident_reference                  60857 non-null  object\n",
            " 2   vehicle_reference                   60857 non-null  int64 \n",
            " 3   casualty_reference                  60857 non-null  int64 \n",
            " 4   casualty_class                      60857 non-null  int64 \n",
            " 5   sex_of_casualty                     60857 non-null  int64 \n",
            " 6   age_of_casualty                     60857 non-null  int64 \n",
            " 7   age_band_of_casualty                60857 non-null  int64 \n",
            " 8   casualty_severity                   60857 non-null  int64 \n",
            " 9   pedestrian_location                 60857 non-null  int64 \n",
            " 10  pedestrian_movement                 60857 non-null  int64 \n",
            " 11  car_passenger                       60857 non-null  int64 \n",
            " 12  bus_or_coach_passenger              60857 non-null  int64 \n",
            " 13  pedestrian_road_maintenance_worker  60857 non-null  int64 \n",
            " 14  casualty_type                       60857 non-null  int64 \n",
            " 15  casualty_home_area_type             60857 non-null  int64 \n",
            " 16  casualty_imd_decile                 60857 non-null  int64 \n",
            " 17  lsoa_of_casualty                    60857 non-null  object\n",
            "dtypes: int64(15), object(3)\n",
            "memory usage: 8.8+ MB\n"
          ]
        }
      ]
    },
    {
      "cell_type": "code",
      "source": [
        "#In the sex_of_casualty outlier_values = [-1,9] deleted"
      ],
      "metadata": {
        "id": "6HT7MAyf1gHG"
      },
      "execution_count": null,
      "outputs": []
    },
    {
      "cell_type": "code",
      "source": [
        "#In the age_of_casualty outlier_values"
      ],
      "metadata": {
        "id": "GPGsCTbQ3-ft"
      },
      "execution_count": null,
      "outputs": []
    },
    {
      "cell_type": "code",
      "source": [
        "df=data['age_of_casualty'].value_counts()\n",
        "len(df)\n",
        "df"
      ],
      "metadata": {
        "colab": {
          "base_uri": "https://localhost:8080/"
        },
        "id": "UbR43tSd1mKd",
        "outputId": "40bcfb9a-3b18-4eb0-ef59-4aeeff7b0adc"
      },
      "execution_count": null,
      "outputs": [
        {
          "output_type": "execute_result",
          "data": {
            "text/plain": [
              "18     1595\n",
              "19     1517\n",
              "21     1425\n",
              "20     1400\n",
              "22     1383\n",
              "       ... \n",
              "96        4\n",
              "99        4\n",
              "97        3\n",
              "98        2\n",
              "101       1\n",
              "Name: age_of_casualty, Length: 102, dtype: int64"
            ]
          },
          "metadata": {},
          "execution_count": 49
        }
      ]
    },
    {
      "cell_type": "code",
      "source": [
        "#In the casualty_class we didnot have outlier_values"
      ],
      "metadata": {
        "id": "ls44wykv4Zy9"
      },
      "execution_count": null,
      "outputs": []
    },
    {
      "cell_type": "code",
      "source": [
        "#In the age_of_casualty outlier_values"
      ],
      "metadata": {
        "id": "WP0N074b4eKX"
      },
      "execution_count": null,
      "outputs": []
    },
    {
      "cell_type": "code",
      "source": [
        "data[\"age_band_of_casualty\"].value_counts()"
      ],
      "metadata": {
        "colab": {
          "base_uri": "https://localhost:8080/"
        },
        "id": "yN4h2fIT6Fd-",
        "outputId": "a6cf68e5-ff38-4349-ea55-0eac16a2d17e"
      },
      "execution_count": null,
      "outputs": [
        {
          "output_type": "execute_result",
          "data": {
            "text/plain": [
              " 6     12805\n",
              " 7      9366\n",
              " 8      7819\n",
              " 5      6704\n",
              " 4      6317\n",
              " 9      5832\n",
              " 10     2976\n",
              " 3      2973\n",
              " 11     2440\n",
              " 2      1565\n",
              "-1      1067\n",
              " 1       993\n",
              "Name: age_band_of_casualty, dtype: int64"
            ]
          },
          "metadata": {},
          "execution_count": 52
        }
      ]
    },
    {
      "cell_type": "code",
      "source": [
        "outlier_values = [-1]\n",
        "# Create a boolean mask to identify rows with outlier values in 'vehicle_reference'\n",
        "outlier_rows = data['age_band_of_casualty'].isin(outlier_values)\n",
        "# Delete rows with outlier values\n",
        "data = data[~outlier_rows]\n",
        "data.info()"
      ],
      "metadata": {
        "colab": {
          "base_uri": "https://localhost:8080/"
        },
        "id": "AL1p_oni6ZWX",
        "outputId": "d3efed44-1a87-472e-efb0-c71bf3f2555e"
      },
      "execution_count": null,
      "outputs": [
        {
          "output_type": "stream",
          "name": "stdout",
          "text": [
            "<class 'pandas.core.frame.DataFrame'>\n",
            "Int64Index: 59790 entries, 0 to 61351\n",
            "Data columns (total 18 columns):\n",
            " #   Column                              Non-Null Count  Dtype \n",
            "---  ------                              --------------  ----- \n",
            " 0   accident_index                      59790 non-null  object\n",
            " 1   accident_reference                  59790 non-null  object\n",
            " 2   vehicle_reference                   59790 non-null  int64 \n",
            " 3   casualty_reference                  59790 non-null  int64 \n",
            " 4   casualty_class                      59790 non-null  int64 \n",
            " 5   sex_of_casualty                     59790 non-null  int64 \n",
            " 6   age_of_casualty                     59790 non-null  int64 \n",
            " 7   age_band_of_casualty                59790 non-null  int64 \n",
            " 8   casualty_severity                   59790 non-null  int64 \n",
            " 9   pedestrian_location                 59790 non-null  int64 \n",
            " 10  pedestrian_movement                 59790 non-null  int64 \n",
            " 11  car_passenger                       59790 non-null  int64 \n",
            " 12  bus_or_coach_passenger              59790 non-null  int64 \n",
            " 13  pedestrian_road_maintenance_worker  59790 non-null  int64 \n",
            " 14  casualty_type                       59790 non-null  int64 \n",
            " 15  casualty_home_area_type             59790 non-null  int64 \n",
            " 16  casualty_imd_decile                 59790 non-null  int64 \n",
            " 17  lsoa_of_casualty                    59790 non-null  object\n",
            "dtypes: int64(15), object(3)\n",
            "memory usage: 8.7+ MB\n"
          ]
        }
      ]
    },
    {
      "cell_type": "code",
      "source": [
        "#In the age_band_of_casualty outlier_values = [-1] deleted"
      ],
      "metadata": {
        "id": "1GJO_fWtTdLS"
      },
      "execution_count": null,
      "outputs": []
    },
    {
      "cell_type": "code",
      "source": [
        "#In the age_of_casualty outlier_values"
      ],
      "metadata": {
        "id": "8M3EE6wsTckD"
      },
      "execution_count": null,
      "outputs": []
    },
    {
      "cell_type": "code",
      "source": [
        "data[\"casualty_severity\"].value_counts()"
      ],
      "metadata": {
        "colab": {
          "base_uri": "https://localhost:8080/"
        },
        "id": "IYvmPOAm6trV",
        "outputId": "09e9a816-c3a5-435c-d16a-78030f3a1def"
      },
      "execution_count": null,
      "outputs": [
        {
          "output_type": "execute_result",
          "data": {
            "text/plain": [
              "3    47381\n",
              "2    11622\n",
              "1      787\n",
              "Name: casualty_severity, dtype: int64"
            ]
          },
          "metadata": {},
          "execution_count": 56
        }
      ]
    },
    {
      "cell_type": "code",
      "source": [
        "#In the casualty_class we didnot have outlier_values"
      ],
      "metadata": {
        "id": "umBd4zhGTlIb"
      },
      "execution_count": null,
      "outputs": []
    },
    {
      "cell_type": "code",
      "source": [
        "#In the age_of_casualty outlier_values"
      ],
      "metadata": {
        "id": "WDrwbiziT1xD"
      },
      "execution_count": null,
      "outputs": []
    },
    {
      "cell_type": "code",
      "source": [
        "data[\"pedestrian_location\"].value_counts()"
      ],
      "metadata": {
        "colab": {
          "base_uri": "https://localhost:8080/"
        },
        "id": "x7qtm-X5T1tb",
        "outputId": "d8f79653-fbca-4ab4-b6b4-9fef5dc09a35"
      },
      "execution_count": null,
      "outputs": [
        {
          "output_type": "execute_result",
          "data": {
            "text/plain": [
              "0     51053\n",
              "5      3285\n",
              "1      1445\n",
              "6      1024\n",
              "9       929\n",
              "10      817\n",
              "8       563\n",
              "4       540\n",
              "7        62\n",
              "2        40\n",
              "3        32\n",
              "Name: pedestrian_location, dtype: int64"
            ]
          },
          "metadata": {},
          "execution_count": 59
        }
      ]
    },
    {
      "cell_type": "code",
      "source": [
        "outlier_values = [3,2,7]\n",
        "# Create a boolean mask to identify rows with outlier values in 'vehicle_reference'\n",
        "outlier_rows = data['pedestrian_location'].isin(outlier_values)\n",
        "# Delete rows with outlier values\n",
        "data = data[~outlier_rows]\n",
        "data.info()"
      ],
      "metadata": {
        "colab": {
          "base_uri": "https://localhost:8080/"
        },
        "id": "QPNOHXARYkha",
        "outputId": "9ed6ad60-4308-4960-ef07-d253214e37e0"
      },
      "execution_count": null,
      "outputs": [
        {
          "output_type": "stream",
          "name": "stdout",
          "text": [
            "<class 'pandas.core.frame.DataFrame'>\n",
            "Int64Index: 59656 entries, 0 to 61351\n",
            "Data columns (total 18 columns):\n",
            " #   Column                              Non-Null Count  Dtype \n",
            "---  ------                              --------------  ----- \n",
            " 0   accident_index                      59656 non-null  object\n",
            " 1   accident_reference                  59656 non-null  object\n",
            " 2   vehicle_reference                   59656 non-null  int64 \n",
            " 3   casualty_reference                  59656 non-null  int64 \n",
            " 4   casualty_class                      59656 non-null  int64 \n",
            " 5   sex_of_casualty                     59656 non-null  int64 \n",
            " 6   age_of_casualty                     59656 non-null  int64 \n",
            " 7   age_band_of_casualty                59656 non-null  int64 \n",
            " 8   casualty_severity                   59656 non-null  int64 \n",
            " 9   pedestrian_location                 59656 non-null  int64 \n",
            " 10  pedestrian_movement                 59656 non-null  int64 \n",
            " 11  car_passenger                       59656 non-null  int64 \n",
            " 12  bus_or_coach_passenger              59656 non-null  int64 \n",
            " 13  pedestrian_road_maintenance_worker  59656 non-null  int64 \n",
            " 14  casualty_type                       59656 non-null  int64 \n",
            " 15  casualty_home_area_type             59656 non-null  int64 \n",
            " 16  casualty_imd_decile                 59656 non-null  int64 \n",
            " 17  lsoa_of_casualty                    59656 non-null  object\n",
            "dtypes: int64(15), object(3)\n",
            "memory usage: 8.6+ MB\n"
          ]
        }
      ]
    },
    {
      "cell_type": "code",
      "source": [
        "#In the pedestrian_location outlier_values = [2,3,7] deleted"
      ],
      "metadata": {
        "id": "k0XxznPzZBvB"
      },
      "execution_count": null,
      "outputs": []
    },
    {
      "cell_type": "code",
      "source": [
        "#In the pedestrian_movement outlier_values"
      ],
      "metadata": {
        "id": "bHwqocT3ZRdp"
      },
      "execution_count": null,
      "outputs": []
    },
    {
      "cell_type": "code",
      "source": [
        "data[\"pedestrian_movement\"].value_counts()"
      ],
      "metadata": {
        "colab": {
          "base_uri": "https://localhost:8080/"
        },
        "id": "ZTEG7693ZS58",
        "outputId": "88d8a54c-7b2d-4be7-ecd2-9ceeaa45677f"
      },
      "execution_count": null,
      "outputs": [
        {
          "output_type": "execute_result",
          "data": {
            "text/plain": [
              "0    51052\n",
              "1     2745\n",
              "9     2431\n",
              "3     1724\n",
              "5      471\n",
              "2      417\n",
              "4      314\n",
              "8      222\n",
              "7      222\n",
              "6       58\n",
              "Name: pedestrian_movement, dtype: int64"
            ]
          },
          "metadata": {},
          "execution_count": 63
        }
      ]
    },
    {
      "cell_type": "code",
      "source": [
        "outlier_values = [6]\n",
        "# Create a boolean mask to identify rows with outlier values in 'vehicle_reference'\n",
        "outlier_rows = data['pedestrian_movement'].isin(outlier_values)\n",
        "# Delete rows with outlier values\n",
        "data = data[~outlier_rows]\n",
        "data.info()"
      ],
      "metadata": {
        "colab": {
          "base_uri": "https://localhost:8080/"
        },
        "id": "70zPr5qPeiOZ",
        "outputId": "5b6978c9-28b0-4a51-9e59-8996487ad76c"
      },
      "execution_count": null,
      "outputs": [
        {
          "output_type": "stream",
          "name": "stdout",
          "text": [
            "<class 'pandas.core.frame.DataFrame'>\n",
            "Int64Index: 59598 entries, 0 to 61351\n",
            "Data columns (total 18 columns):\n",
            " #   Column                              Non-Null Count  Dtype \n",
            "---  ------                              --------------  ----- \n",
            " 0   accident_index                      59598 non-null  object\n",
            " 1   accident_reference                  59598 non-null  object\n",
            " 2   vehicle_reference                   59598 non-null  int64 \n",
            " 3   casualty_reference                  59598 non-null  int64 \n",
            " 4   casualty_class                      59598 non-null  int64 \n",
            " 5   sex_of_casualty                     59598 non-null  int64 \n",
            " 6   age_of_casualty                     59598 non-null  int64 \n",
            " 7   age_band_of_casualty                59598 non-null  int64 \n",
            " 8   casualty_severity                   59598 non-null  int64 \n",
            " 9   pedestrian_location                 59598 non-null  int64 \n",
            " 10  pedestrian_movement                 59598 non-null  int64 \n",
            " 11  car_passenger                       59598 non-null  int64 \n",
            " 12  bus_or_coach_passenger              59598 non-null  int64 \n",
            " 13  pedestrian_road_maintenance_worker  59598 non-null  int64 \n",
            " 14  casualty_type                       59598 non-null  int64 \n",
            " 15  casualty_home_area_type             59598 non-null  int64 \n",
            " 16  casualty_imd_decile                 59598 non-null  int64 \n",
            " 17  lsoa_of_casualty                    59598 non-null  object\n",
            "dtypes: int64(15), object(3)\n",
            "memory usage: 8.6+ MB\n"
          ]
        }
      ]
    },
    {
      "cell_type": "code",
      "source": [
        "#In the pedestrian_movement outlier_values = [2,3,7] deleted"
      ],
      "metadata": {
        "id": "vlZGuKKnenmZ"
      },
      "execution_count": null,
      "outputs": []
    },
    {
      "cell_type": "code",
      "source": [
        "#In the car_passenger outlier_values"
      ],
      "metadata": {
        "id": "ao_w6puOex4R"
      },
      "execution_count": null,
      "outputs": []
    },
    {
      "cell_type": "code",
      "source": [
        "data['car_passenger'].value_counts()"
      ],
      "metadata": {
        "colab": {
          "base_uri": "https://localhost:8080/"
        },
        "id": "CFTZRV1hfI0j",
        "outputId": "b528360e-9b58-42dc-f284-33e1e290a8b8"
      },
      "execution_count": null,
      "outputs": [
        {
          "output_type": "execute_result",
          "data": {
            "text/plain": [
              " 0    50053\n",
              " 1     5858\n",
              " 2     3379\n",
              "-1      284\n",
              " 9       24\n",
              "Name: car_passenger, dtype: int64"
            ]
          },
          "metadata": {},
          "execution_count": 67
        }
      ]
    },
    {
      "cell_type": "code",
      "source": [
        "outlier_values = [-1,9]\n",
        "# Create a boolean mask to identify rows with outlier values in 'vehicle_reference'\n",
        "outlier_rows = data['car_passenger'].isin(outlier_values)\n",
        "# Delete rows with outlier values\n",
        "data = data[~outlier_rows]\n",
        "data.info()"
      ],
      "metadata": {
        "colab": {
          "base_uri": "https://localhost:8080/"
        },
        "id": "j4lvIbOufxSr",
        "outputId": "27a03f51-f116-4bf8-c0a1-bf6241e54af6"
      },
      "execution_count": null,
      "outputs": [
        {
          "output_type": "stream",
          "name": "stdout",
          "text": [
            "<class 'pandas.core.frame.DataFrame'>\n",
            "Int64Index: 59290 entries, 0 to 61351\n",
            "Data columns (total 18 columns):\n",
            " #   Column                              Non-Null Count  Dtype \n",
            "---  ------                              --------------  ----- \n",
            " 0   accident_index                      59290 non-null  object\n",
            " 1   accident_reference                  59290 non-null  object\n",
            " 2   vehicle_reference                   59290 non-null  int64 \n",
            " 3   casualty_reference                  59290 non-null  int64 \n",
            " 4   casualty_class                      59290 non-null  int64 \n",
            " 5   sex_of_casualty                     59290 non-null  int64 \n",
            " 6   age_of_casualty                     59290 non-null  int64 \n",
            " 7   age_band_of_casualty                59290 non-null  int64 \n",
            " 8   casualty_severity                   59290 non-null  int64 \n",
            " 9   pedestrian_location                 59290 non-null  int64 \n",
            " 10  pedestrian_movement                 59290 non-null  int64 \n",
            " 11  car_passenger                       59290 non-null  int64 \n",
            " 12  bus_or_coach_passenger              59290 non-null  int64 \n",
            " 13  pedestrian_road_maintenance_worker  59290 non-null  int64 \n",
            " 14  casualty_type                       59290 non-null  int64 \n",
            " 15  casualty_home_area_type             59290 non-null  int64 \n",
            " 16  casualty_imd_decile                 59290 non-null  int64 \n",
            " 17  lsoa_of_casualty                    59290 non-null  object\n",
            "dtypes: int64(15), object(3)\n",
            "memory usage: 8.6+ MB\n"
          ]
        }
      ]
    },
    {
      "cell_type": "code",
      "source": [
        "#In the car_passenger outlier_values = [-1,9] deleted"
      ],
      "metadata": {
        "id": "ZFvcXBhvr2wR"
      },
      "execution_count": null,
      "outputs": []
    },
    {
      "cell_type": "code",
      "source": [
        "#In the bus_or_coach_passenger outlier_values"
      ],
      "metadata": {
        "id": "CAjrP1Shf29C"
      },
      "execution_count": null,
      "outputs": []
    },
    {
      "cell_type": "code",
      "source": [
        "data['bus_or_coach_passenger'].value_counts()"
      ],
      "metadata": {
        "colab": {
          "base_uri": "https://localhost:8080/"
        },
        "id": "btWG85M4f88h",
        "outputId": "a3fb9e94-8730-4907-c7cd-1f0a7425714b"
      },
      "execution_count": null,
      "outputs": [
        {
          "output_type": "execute_result",
          "data": {
            "text/plain": [
              " 0    58503\n",
              " 4      433\n",
              " 3      256\n",
              " 2       51\n",
              " 1       28\n",
              "-1       16\n",
              " 9        3\n",
              "Name: bus_or_coach_passenger, dtype: int64"
            ]
          },
          "metadata": {},
          "execution_count": 71
        }
      ]
    },
    {
      "cell_type": "code",
      "source": [
        "outlier_values = [-1,9]\n",
        "# Create a boolean mask to identify rows with outlier values in 'vehicle_reference'\n",
        "outlier_rows = data['bus_or_coach_passenger'].isin(outlier_values)\n",
        "# Delete rows with outlier values\n",
        "data = data[~outlier_rows]\n",
        "data.info()"
      ],
      "metadata": {
        "colab": {
          "base_uri": "https://localhost:8080/"
        },
        "id": "Ld6k3AmXhLqd",
        "outputId": "1c36d562-5679-4ecb-b112-acdc0fe0708a"
      },
      "execution_count": null,
      "outputs": [
        {
          "output_type": "stream",
          "name": "stdout",
          "text": [
            "<class 'pandas.core.frame.DataFrame'>\n",
            "Int64Index: 59271 entries, 0 to 61351\n",
            "Data columns (total 18 columns):\n",
            " #   Column                              Non-Null Count  Dtype \n",
            "---  ------                              --------------  ----- \n",
            " 0   accident_index                      59271 non-null  object\n",
            " 1   accident_reference                  59271 non-null  object\n",
            " 2   vehicle_reference                   59271 non-null  int64 \n",
            " 3   casualty_reference                  59271 non-null  int64 \n",
            " 4   casualty_class                      59271 non-null  int64 \n",
            " 5   sex_of_casualty                     59271 non-null  int64 \n",
            " 6   age_of_casualty                     59271 non-null  int64 \n",
            " 7   age_band_of_casualty                59271 non-null  int64 \n",
            " 8   casualty_severity                   59271 non-null  int64 \n",
            " 9   pedestrian_location                 59271 non-null  int64 \n",
            " 10  pedestrian_movement                 59271 non-null  int64 \n",
            " 11  car_passenger                       59271 non-null  int64 \n",
            " 12  bus_or_coach_passenger              59271 non-null  int64 \n",
            " 13  pedestrian_road_maintenance_worker  59271 non-null  int64 \n",
            " 14  casualty_type                       59271 non-null  int64 \n",
            " 15  casualty_home_area_type             59271 non-null  int64 \n",
            " 16  casualty_imd_decile                 59271 non-null  int64 \n",
            " 17  lsoa_of_casualty                    59271 non-null  object\n",
            "dtypes: int64(15), object(3)\n",
            "memory usage: 8.6+ MB\n"
          ]
        }
      ]
    },
    {
      "cell_type": "code",
      "source": [
        "#In the pedestrian_movement outlier_values = [-1,9] deleted"
      ],
      "metadata": {
        "id": "LsEXMeKyrvK5"
      },
      "execution_count": null,
      "outputs": []
    },
    {
      "cell_type": "code",
      "source": [
        "#In the pedestrian_road_maintenance_worker"
      ],
      "metadata": {
        "id": "_t9K7VPbr7rh"
      },
      "execution_count": null,
      "outputs": []
    },
    {
      "cell_type": "code",
      "source": [
        "data['pedestrian_road_maintenance_worker'].value_counts()"
      ],
      "metadata": {
        "colab": {
          "base_uri": "https://localhost:8080/"
        },
        "id": "oqcu9Z_srv4Q",
        "outputId": "5fca0ff7-9100-4a8f-87cb-699cac612a99"
      },
      "execution_count": null,
      "outputs": [
        {
          "output_type": "execute_result",
          "data": {
            "text/plain": [
              " 0    58102\n",
              " 2      958\n",
              " 1      109\n",
              "-1      102\n",
              "Name: pedestrian_road_maintenance_worker, dtype: int64"
            ]
          },
          "metadata": {},
          "execution_count": 75
        }
      ]
    },
    {
      "cell_type": "code",
      "source": [
        "outlier_values = [-1]\n",
        "# Create a boolean mask to identify rows with outlier values in 'vehicle_reference'\n",
        "outlier_rows = data['pedestrian_road_maintenance_worker'].isin(outlier_values)\n",
        "# Delete rows with outlier values\n",
        "data = data[~outlier_rows]\n",
        "data.info()"
      ],
      "metadata": {
        "colab": {
          "base_uri": "https://localhost:8080/"
        },
        "id": "Se4puGAS26b4",
        "outputId": "e5fa024d-3d58-4cb8-f59a-0872592d0d15"
      },
      "execution_count": null,
      "outputs": [
        {
          "output_type": "stream",
          "name": "stdout",
          "text": [
            "<class 'pandas.core.frame.DataFrame'>\n",
            "Int64Index: 59169 entries, 0 to 61351\n",
            "Data columns (total 18 columns):\n",
            " #   Column                              Non-Null Count  Dtype \n",
            "---  ------                              --------------  ----- \n",
            " 0   accident_index                      59169 non-null  object\n",
            " 1   accident_reference                  59169 non-null  object\n",
            " 2   vehicle_reference                   59169 non-null  int64 \n",
            " 3   casualty_reference                  59169 non-null  int64 \n",
            " 4   casualty_class                      59169 non-null  int64 \n",
            " 5   sex_of_casualty                     59169 non-null  int64 \n",
            " 6   age_of_casualty                     59169 non-null  int64 \n",
            " 7   age_band_of_casualty                59169 non-null  int64 \n",
            " 8   casualty_severity                   59169 non-null  int64 \n",
            " 9   pedestrian_location                 59169 non-null  int64 \n",
            " 10  pedestrian_movement                 59169 non-null  int64 \n",
            " 11  car_passenger                       59169 non-null  int64 \n",
            " 12  bus_or_coach_passenger              59169 non-null  int64 \n",
            " 13  pedestrian_road_maintenance_worker  59169 non-null  int64 \n",
            " 14  casualty_type                       59169 non-null  int64 \n",
            " 15  casualty_home_area_type             59169 non-null  int64 \n",
            " 16  casualty_imd_decile                 59169 non-null  int64 \n",
            " 17  lsoa_of_casualty                    59169 non-null  object\n",
            "dtypes: int64(15), object(3)\n",
            "memory usage: 8.6+ MB\n"
          ]
        }
      ]
    },
    {
      "cell_type": "code",
      "source": [
        "#In the pedestrian_movement outlier_values = [-1] deleted"
      ],
      "metadata": {
        "id": "7TcrhDI73FUX"
      },
      "execution_count": null,
      "outputs": []
    },
    {
      "cell_type": "code",
      "source": [
        "#In the casualty_type"
      ],
      "metadata": {
        "id": "IQyb7CyW3Gca"
      },
      "execution_count": null,
      "outputs": []
    },
    {
      "cell_type": "code",
      "source": [
        "data['casualty_type'].value_counts()"
      ],
      "metadata": {
        "colab": {
          "base_uri": "https://localhost:8080/"
        },
        "id": "XmyrgylK3YwI",
        "outputId": "e8ea5871-dbd7-44f6-8937-e68dddc90ab7"
      },
      "execution_count": null,
      "outputs": [
        {
          "output_type": "execute_result",
          "data": {
            "text/plain": [
              " 9     31661\n",
              " 0      8443\n",
              " 1      6905\n",
              " 3      3573\n",
              " 5      1776\n",
              " 19     1416\n",
              " 11      864\n",
              " 97      837\n",
              " 4       811\n",
              " 90      794\n",
              " 8       636\n",
              " 98      411\n",
              " 2       405\n",
              " 21      176\n",
              " 23      125\n",
              " 22      109\n",
              " 10       81\n",
              " 20       76\n",
              " 16       33\n",
              " 17       31\n",
              "-1         4\n",
              " 18        2\n",
              "Name: casualty_type, dtype: int64"
            ]
          },
          "metadata": {},
          "execution_count": 79
        }
      ]
    },
    {
      "cell_type": "code",
      "source": [
        "outlier_values = [-1,18]\n",
        "# Create a boolean mask to identify rows with outlier values in 'vehicle_reference'\n",
        "outlier_rows = data['casualty_type'].isin(outlier_values)\n",
        "# Delete rows with outlier values\n",
        "data = data[~outlier_rows]\n",
        "data.info()"
      ],
      "metadata": {
        "colab": {
          "base_uri": "https://localhost:8080/"
        },
        "id": "e9l8k9st3dCl",
        "outputId": "3021e016-dc65-44f0-bf22-41a67ef597ab"
      },
      "execution_count": null,
      "outputs": [
        {
          "output_type": "stream",
          "name": "stdout",
          "text": [
            "<class 'pandas.core.frame.DataFrame'>\n",
            "Int64Index: 59163 entries, 0 to 61351\n",
            "Data columns (total 18 columns):\n",
            " #   Column                              Non-Null Count  Dtype \n",
            "---  ------                              --------------  ----- \n",
            " 0   accident_index                      59163 non-null  object\n",
            " 1   accident_reference                  59163 non-null  object\n",
            " 2   vehicle_reference                   59163 non-null  int64 \n",
            " 3   casualty_reference                  59163 non-null  int64 \n",
            " 4   casualty_class                      59163 non-null  int64 \n",
            " 5   sex_of_casualty                     59163 non-null  int64 \n",
            " 6   age_of_casualty                     59163 non-null  int64 \n",
            " 7   age_band_of_casualty                59163 non-null  int64 \n",
            " 8   casualty_severity                   59163 non-null  int64 \n",
            " 9   pedestrian_location                 59163 non-null  int64 \n",
            " 10  pedestrian_movement                 59163 non-null  int64 \n",
            " 11  car_passenger                       59163 non-null  int64 \n",
            " 12  bus_or_coach_passenger              59163 non-null  int64 \n",
            " 13  pedestrian_road_maintenance_worker  59163 non-null  int64 \n",
            " 14  casualty_type                       59163 non-null  int64 \n",
            " 15  casualty_home_area_type             59163 non-null  int64 \n",
            " 16  casualty_imd_decile                 59163 non-null  int64 \n",
            " 17  lsoa_of_casualty                    59163 non-null  object\n",
            "dtypes: int64(15), object(3)\n",
            "memory usage: 8.6+ MB\n"
          ]
        }
      ]
    },
    {
      "cell_type": "code",
      "source": [
        "#In the casualty_type outlier_values = [-1,18] deleted"
      ],
      "metadata": {
        "id": "LP2d_5-C7e7v"
      },
      "execution_count": null,
      "outputs": []
    },
    {
      "cell_type": "code",
      "source": [
        "#In the casualty_home_area_type"
      ],
      "metadata": {
        "id": "fH0ZkPkL7i8P"
      },
      "execution_count": null,
      "outputs": []
    },
    {
      "cell_type": "code",
      "source": [
        "data['casualty_home_area_type'].value_counts()"
      ],
      "metadata": {
        "colab": {
          "base_uri": "https://localhost:8080/"
        },
        "id": "DooWkhyM73FB",
        "outputId": "ff235b28-664a-4eac-acd0-9a3db52413c4"
      },
      "execution_count": null,
      "outputs": [
        {
          "output_type": "execute_result",
          "data": {
            "text/plain": [
              " 1    43945\n",
              " 3     5901\n",
              "-1     4820\n",
              " 2     4497\n",
              "Name: casualty_home_area_type, dtype: int64"
            ]
          },
          "metadata": {},
          "execution_count": 83
        }
      ]
    },
    {
      "cell_type": "code",
      "source": [
        "most_frequent_casualty_type = data['casualty_home_area_type'].mode().iloc[0]\n",
        "data['casualty_home_area_type'].replace(-1, most_frequent_casualty_type, inplace=True)"
      ],
      "metadata": {
        "colab": {
          "base_uri": "https://localhost:8080/"
        },
        "id": "2MOX8Zzt9FXY",
        "outputId": "1458c324-b654-4c02-e4c0-12524381d83a"
      },
      "execution_count": null,
      "outputs": [
        {
          "output_type": "stream",
          "name": "stderr",
          "text": [
            "<ipython-input-84-16093d7083e5>:2: SettingWithCopyWarning: \n",
            "A value is trying to be set on a copy of a slice from a DataFrame\n",
            "\n",
            "See the caveats in the documentation: https://pandas.pydata.org/pandas-docs/stable/user_guide/indexing.html#returning-a-view-versus-a-copy\n",
            "  data['casualty_home_area_type'].replace(-1, most_frequent_casualty_type, inplace=True)\n"
          ]
        }
      ]
    },
    {
      "cell_type": "code",
      "source": [
        "data['casualty_home_area_type'].value_counts()\n",
        "data.info()"
      ],
      "metadata": {
        "colab": {
          "base_uri": "https://localhost:8080/"
        },
        "id": "7O09Ox4w9NAv",
        "outputId": "05a7b609-8b74-4cbe-e9c8-c513077f2a90"
      },
      "execution_count": null,
      "outputs": [
        {
          "output_type": "stream",
          "name": "stdout",
          "text": [
            "<class 'pandas.core.frame.DataFrame'>\n",
            "Int64Index: 59163 entries, 0 to 61351\n",
            "Data columns (total 18 columns):\n",
            " #   Column                              Non-Null Count  Dtype \n",
            "---  ------                              --------------  ----- \n",
            " 0   accident_index                      59163 non-null  object\n",
            " 1   accident_reference                  59163 non-null  object\n",
            " 2   vehicle_reference                   59163 non-null  int64 \n",
            " 3   casualty_reference                  59163 non-null  int64 \n",
            " 4   casualty_class                      59163 non-null  int64 \n",
            " 5   sex_of_casualty                     59163 non-null  int64 \n",
            " 6   age_of_casualty                     59163 non-null  int64 \n",
            " 7   age_band_of_casualty                59163 non-null  int64 \n",
            " 8   casualty_severity                   59163 non-null  int64 \n",
            " 9   pedestrian_location                 59163 non-null  int64 \n",
            " 10  pedestrian_movement                 59163 non-null  int64 \n",
            " 11  car_passenger                       59163 non-null  int64 \n",
            " 12  bus_or_coach_passenger              59163 non-null  int64 \n",
            " 13  pedestrian_road_maintenance_worker  59163 non-null  int64 \n",
            " 14  casualty_type                       59163 non-null  int64 \n",
            " 15  casualty_home_area_type             59163 non-null  int64 \n",
            " 16  casualty_imd_decile                 59163 non-null  int64 \n",
            " 17  lsoa_of_casualty                    59163 non-null  object\n",
            "dtypes: int64(15), object(3)\n",
            "memory usage: 8.6+ MB\n"
          ]
        }
      ]
    },
    {
      "cell_type": "code",
      "source": [
        "# replace the amount of 'casualty_home_area_type' in missing value with 1"
      ],
      "metadata": {
        "id": "8tD37rpa9pzf"
      },
      "execution_count": null,
      "outputs": []
    },
    {
      "cell_type": "code",
      "source": [
        "#In the casualty_imd_decile"
      ],
      "metadata": {
        "id": "jsMn-t-h-yX4"
      },
      "execution_count": null,
      "outputs": []
    },
    {
      "cell_type": "code",
      "source": [
        "data['casualty_imd_decile'].value_counts()"
      ],
      "metadata": {
        "colab": {
          "base_uri": "https://localhost:8080/"
        },
        "id": "-kHANH6S-zEP",
        "outputId": "f357cd87-7a42-425c-f37a-ca3c65eb4cf8"
      },
      "execution_count": null,
      "outputs": [
        {
          "output_type": "execute_result",
          "data": {
            "text/plain": [
              " 2     6907\n",
              " 1     6735\n",
              " 3     6676\n",
              " 4     6086\n",
              " 5     5614\n",
              " 6     5201\n",
              "-1     5097\n",
              " 7     4831\n",
              " 8     4474\n",
              " 9     3993\n",
              " 10    3549\n",
              "Name: casualty_imd_decile, dtype: int64"
            ]
          },
          "metadata": {},
          "execution_count": 88
        }
      ]
    },
    {
      "cell_type": "code",
      "source": [
        "#In the casualty_imd_decile we didnot have outlier_values"
      ],
      "metadata": {
        "id": "Du0cRuH3AAl8"
      },
      "execution_count": null,
      "outputs": []
    },
    {
      "cell_type": "code",
      "source": [
        "#In the lsoa_of_casualty"
      ],
      "metadata": {
        "id": "vgJCeEoPE1AS"
      },
      "execution_count": null,
      "outputs": []
    },
    {
      "cell_type": "code",
      "source": [
        "data['lsoa_of_casualty'].value_counts()"
      ],
      "metadata": {
        "colab": {
          "base_uri": "https://localhost:8080/"
        },
        "id": "53LXWOeHACQv",
        "outputId": "cc356791-be60-417e-9c6d-03c2625e6659"
      },
      "execution_count": null,
      "outputs": [
        {
          "output_type": "execute_result",
          "data": {
            "text/plain": [
              "-1           7326\n",
              "E01004242      17\n",
              "E01033583      15\n",
              "E01005108      14\n",
              "E01004252      14\n",
              "             ... \n",
              "E01027473       1\n",
              "E01008162       1\n",
              "E01011948       1\n",
              "E01008741       1\n",
              "E01024707       1\n",
              "Name: lsoa_of_casualty, Length: 23622, dtype: int64"
            ]
          },
          "metadata": {},
          "execution_count": 91
        }
      ]
    },
    {
      "cell_type": "code",
      "source": [
        "outlier_values = [-1]\n",
        "# Create a boolean mask to identify rows with outlier values in 'vehicle_reference'\n",
        "outlier_rows = data['lsoa_of_casualty'].isin(outlier_values)\n",
        "# Delete rows with outlier values\n",
        "data = data[~outlier_rows]\n",
        "data.info()"
      ],
      "metadata": {
        "colab": {
          "base_uri": "https://localhost:8080/"
        },
        "id": "V10N9eNFOY9l",
        "outputId": "4f39037e-754d-4a55-8168-35ace763401f"
      },
      "execution_count": null,
      "outputs": [
        {
          "output_type": "stream",
          "name": "stdout",
          "text": [
            "<class 'pandas.core.frame.DataFrame'>\n",
            "Int64Index: 59163 entries, 0 to 61351\n",
            "Data columns (total 18 columns):\n",
            " #   Column                              Non-Null Count  Dtype \n",
            "---  ------                              --------------  ----- \n",
            " 0   accident_index                      59163 non-null  object\n",
            " 1   accident_reference                  59163 non-null  object\n",
            " 2   vehicle_reference                   59163 non-null  int64 \n",
            " 3   casualty_reference                  59163 non-null  int64 \n",
            " 4   casualty_class                      59163 non-null  int64 \n",
            " 5   sex_of_casualty                     59163 non-null  int64 \n",
            " 6   age_of_casualty                     59163 non-null  int64 \n",
            " 7   age_band_of_casualty                59163 non-null  int64 \n",
            " 8   casualty_severity                   59163 non-null  int64 \n",
            " 9   pedestrian_location                 59163 non-null  int64 \n",
            " 10  pedestrian_movement                 59163 non-null  int64 \n",
            " 11  car_passenger                       59163 non-null  int64 \n",
            " 12  bus_or_coach_passenger              59163 non-null  int64 \n",
            " 13  pedestrian_road_maintenance_worker  59163 non-null  int64 \n",
            " 14  casualty_type                       59163 non-null  int64 \n",
            " 15  casualty_home_area_type             59163 non-null  int64 \n",
            " 16  casualty_imd_decile                 59163 non-null  int64 \n",
            " 17  lsoa_of_casualty                    59163 non-null  object\n",
            "dtypes: int64(15), object(3)\n",
            "memory usage: 8.6+ MB\n"
          ]
        }
      ]
    },
    {
      "cell_type": "code",
      "source": [
        "data['lsoa_of_casualty'].value_counts()"
      ],
      "metadata": {
        "colab": {
          "base_uri": "https://localhost:8080/"
        },
        "id": "cfuiVZ7iPLZn",
        "outputId": "dae1a0a8-cabe-4353-e84d-f66fcac98cf6"
      },
      "execution_count": null,
      "outputs": [
        {
          "output_type": "execute_result",
          "data": {
            "text/plain": [
              "-1           7326\n",
              "E01004242      17\n",
              "E01033583      15\n",
              "E01005108      14\n",
              "E01004252      14\n",
              "             ... \n",
              "E01027473       1\n",
              "E01008162       1\n",
              "E01011948       1\n",
              "E01008741       1\n",
              "E01024707       1\n",
              "Name: lsoa_of_casualty, Length: 23622, dtype: int64"
            ]
          },
          "metadata": {},
          "execution_count": 93
        }
      ]
    },
    {
      "cell_type": "code",
      "source": [
        "import pandas as pd\n",
        "\n",
        "# Assuming your DataFrame is named 'df'\n",
        "df = data.copy()\n",
        "# Check the count of rows where 'lsoa_of_casualty' is equal to -1 before cleaning\n",
        "print(\"Count before:\", (df['lsoa_of_casualty'] == '-1').sum())\n",
        "\n",
        "# Remove rows where 'lsoa_of_casualty' is equal to -1 or '-1'\n",
        "df = df[~df['lsoa_of_casualty'].isin(['-1'])]\n",
        "\n",
        "# Check the count after cleaning\n",
        "print(\"Count after:\", (df['lsoa_of_casualty'] == '-1').sum())"
      ],
      "metadata": {
        "colab": {
          "base_uri": "https://localhost:8080/"
        },
        "id": "-xzSjFVjSSUm",
        "outputId": "b86c8639-6a9b-4421-b966-fb699f5d29b9"
      },
      "execution_count": null,
      "outputs": [
        {
          "output_type": "stream",
          "name": "stdout",
          "text": [
            "Count before: 7326\n",
            "Count after: 0\n"
          ]
        }
      ]
    },
    {
      "cell_type": "code",
      "source": [
        "df['lsoa_of_casualty'].value_counts()"
      ],
      "metadata": {
        "colab": {
          "base_uri": "https://localhost:8080/"
        },
        "id": "6hW-DFLKS-w9",
        "outputId": "854c40e2-295a-4044-92c6-5e84a7839187"
      },
      "execution_count": 99,
      "outputs": [
        {
          "output_type": "execute_result",
          "data": {
            "text/plain": [
              "E01004242    17\n",
              "E01033583    15\n",
              "E01004252    14\n",
              "E01005108    14\n",
              "E01000092    13\n",
              "             ..\n",
              "E01027473     1\n",
              "E01008162     1\n",
              "E01011948     1\n",
              "E01008741     1\n",
              "E01024707     1\n",
              "Name: lsoa_of_casualty, Length: 23621, dtype: int64"
            ]
          },
          "metadata": {},
          "execution_count": 99
        }
      ]
    }
  ]
}